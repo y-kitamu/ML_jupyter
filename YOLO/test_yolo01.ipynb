{
 "cells": [
  {
   "cell_type": "code",
   "execution_count": 1,
   "metadata": {},
   "outputs": [
    {
     "name": "stderr",
     "output_type": "stream",
     "text": [
      "/opt/conda/lib/python3.7/site-packages/chainer/_environment_check.py:73: UserWarning: \n",
      "--------------------------------------------------------------------------------\n",
      "CuPy (cupy) version 6.0.0 may not be compatible with this version of Chainer.\n",
      "Please consider installing the supported version by running:\n",
      "  $ pip install 'cupy>=6.5.0,<7.0.0'\n",
      "\n",
      "See the following page for more details:\n",
      "  https://docs-cupy.chainer.org/en/latest/install.html\n",
      "--------------------------------------------------------------------------------\n",
      "\n",
      "  requirement=requirement, help=help))\n"
     ]
    }
   ],
   "source": [
    "import random\n",
    "\n",
    "import numpy as np\n",
    "from chainercv.datasets import VOCBboxDataset\n",
    "from YOLOv3.lib.datasets.yolo_voc_dataset import YOLOVOCDataset"
   ]
  },
  {
   "cell_type": "code",
   "execution_count": null,
   "metadata": {},
   "outputs": [
    {
     "name": "stdout",
     "output_type": "stream",
     "text": [
      "Downloading ...\n",
      "From: http://host.robots.ox.ac.uk/pascal/VOC/voc2012/VOCtrainval_11-May-2012.tar\n",
      "To: /home/kitamura/.chainer/dataset/_dl_cache/92029705a99338d0932803388148a725\n",
      "  %   Total    Recv       Speed  Time left\n",
      " 36 1907MiB  688MiB    307KiB/s    1:07:50"
     ]
    }
   ],
   "source": [
    "train = VOCBboxDataset(split='train')\n",
    "train = YOLOVOCDataset(train, classifier=False, jitter=0.3, hue=0.1, sat=1.5, val=1.5)\n",
    "train_iter = chainer.iterators.SerialIterator(train, args.batchsize)"
   ]
  },
  {
   "cell_type": "code",
   "execution_count": null,
   "metadata": {},
   "outputs": [],
   "source": []
  }
 ],
 "metadata": {
  "kernelspec": {
   "display_name": "Python 3",
   "language": "python",
   "name": "python3"
  },
  "language_info": {
   "codemirror_mode": {
    "name": "ipython",
    "version": 3
   },
   "file_extension": ".py",
   "mimetype": "text/x-python",
   "name": "python",
   "nbconvert_exporter": "python",
   "pygments_lexer": "ipython3",
   "version": "3.7.3"
  }
 },
 "nbformat": 4,
 "nbformat_minor": 4
}
