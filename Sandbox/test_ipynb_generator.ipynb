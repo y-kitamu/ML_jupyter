{
 "cells": [
  {
   "cell_type": "code",
   "execution_count": 9,
   "metadata": {
    "collapsed": true,
    "jupyter": {
     "outputs_hidden": true
    }
   },
   "outputs": [
    {
     "ename": "ModuleNotFoundError",
     "evalue": "No module named 'xinet_extra'",
     "output_type": "error",
     "traceback": [
      "\u001b[0;31m\u001b[0m",
      "\u001b[0;31mModuleNotFoundError\u001b[0mTraceback (most recent call last)",
      "\u001b[0;32m<ipython-input-9-6fcc70e623a2>\u001b[0m in \u001b[0;36m<module>\u001b[0;34m\u001b[0m\n\u001b[1;32m      4\u001b[0m \u001b[0msys\u001b[0m\u001b[0;34m.\u001b[0m\u001b[0mpath\u001b[0m\u001b[0;34m.\u001b[0m\u001b[0mappend\u001b[0m\u001b[0;34m(\u001b[0m\u001b[0;34m\"../\"\u001b[0m\u001b[0;34m)\u001b[0m\u001b[0;34m\u001b[0m\u001b[0;34m\u001b[0m\u001b[0m\n\u001b[1;32m      5\u001b[0m \u001b[0;34m\u001b[0m\u001b[0m\n\u001b[0;32m----> 6\u001b[0;31m \u001b[0;32mfrom\u001b[0m \u001b[0mxinet_extra\u001b[0m \u001b[0;32mimport\u001b[0m \u001b[0minterface\u001b[0m\u001b[0;34m\u001b[0m\u001b[0;34m\u001b[0m\u001b[0m\n\u001b[0m\u001b[1;32m      7\u001b[0m \u001b[0;34m\u001b[0m\u001b[0m\n\u001b[1;32m      8\u001b[0m \u001b[0mreload\u001b[0m\u001b[0;34m(\u001b[0m\u001b[0minterface\u001b[0m\u001b[0;34m)\u001b[0m\u001b[0;34m\u001b[0m\u001b[0;34m\u001b[0m\u001b[0m\n",
      "\u001b[0;31mModuleNotFoundError\u001b[0m: No module named 'xinet_extra'"
     ]
    }
   ],
   "source": [
    "import os\n",
    "import sys\n",
    "sys.path.append(\"../../\")\n",
    "sys.path.append(\"../\")\n",
    "\n",
    "import nbformat\n",
    "from xinet_extra import interface\n",
    "reload(interface)\n",
    "\n",
    "jupyter_dir = \"./\"\n",
    "\n",
    "classes = [\n",
    "    \"0_Gastric\",\n",
    "    \"1_Esophagus\",\n",
    "    \"2_Egjunction\"\n",
    "    \"3_Pharynx\",\n",
    "    \"4_Duodenum\",\n",
    "    \"5_Unknown\"\n",
    "]\n",
    "\n",
    "xml_filename = interface.generate_new_experiment()\n",
    "train_csv_filename = \"\"\n",
    "test_csv_filename = \"\"\n",
    "interface.reset_experiment(xml_filename)\n",
    "\n",
    "title = os.path.basename(xml_filename).split(\".\")[0]\n",
    "\n",
    "code = \"\"\"\n",
    "import sys\n",
    "sys.path.append(\"../../\")\n",
    "sys.path.append(\"../../\")\n",
    "\n",
    "from xinet_extra import interface\n",
    "\n",
    "title = {}\n",
    "xml_filename = {}\n",
    "train_csv_filename = {}\n",
    "test_csv_filename = {}\n",
    "\n",
    "classes = [\n",
    "{}\n",
    "]\n",
    "\n",
    "kwargs = {{}}\n",
    "\"\"\".format(title, xml_filename, train_csv_filename, test_csv_filename,\n",
    "           \"\\n\".join([\"{},\".format(c) for c in classes]))\n",
    "\n",
    "nb = nbformat.v4.new_notebook()\n",
    "nb[\"cells\"] = [\n",
    "    nbformat.v4.new_markdown_cell(title),\n",
    "    nbformat.v4.new_code_cell(code)\n",
    "]\n",
    "\n",
    "with open(os.path.join(jupyter_dir, \"{}.ipynb\".format(title)), 'w') as f:\n",
    "    nbformat.write(f)"
   ]
  },
  {
   "cell_type": "code",
   "execution_count": 11,
   "metadata": {},
   "outputs": [],
   "source": [
    "classes = [\n",
    "    \"0_Gastric\",\n",
    "    \"1_Esophagus\",\n",
    "    \"2_Egjunction\"\n",
    "    \"3_Pharynx\",\n",
    "    \"4_Duodenum\",\n",
    "    \"5_Unknown\"\n",
    "]"
   ]
  },
  {
   "cell_type": "code",
   "execution_count": 14,
   "metadata": {},
   "outputs": [],
   "source": [
    "\n",
    "code = \"\"\"\n",
    "import sys\n",
    "sys.path.append(\"../../\")\n",
    "sys.path.append(\"../../\")\n",
    "\n",
    "from xinet_extra import interface\n",
    "\n",
    "xml_filename = {}\n",
    "train_csv_filename = {}\n",
    "test_csv_filename = {}\n",
    "\n",
    "classes = [\n",
    "{}\n",
    "]\n",
    "\n",
    "kwargs = {{}}\n",
    "\"\"\".format(\"test\", \"test1\", \"test2\", \n",
    "          \"\\n\".join([\"    {},\".format(c) for c in classes]))"
   ]
  },
  {
   "cell_type": "code",
   "execution_count": 15,
   "metadata": {},
   "outputs": [
    {
     "name": "stdout",
     "output_type": "stream",
     "text": [
      "\n",
      "import sys\n",
      "sys.path.append(\"../../\")\n",
      "sys.path.append(\"../../\")\n",
      "\n",
      "from xinet_extra import interface\n",
      "\n",
      "xml_filename = test\n",
      "train_csv_filename = test1\n",
      "test_csv_filename = test2\n",
      "\n",
      "classes = [\n",
      "    0_Gastric,\n",
      "    1_Esophagus,\n",
      "    2_Egjunction3_Pharynx,\n",
      "    4_Duodenum,\n",
      "    5_Unknown,\n",
      "]\n",
      "\n",
      "kwargs = {}\n",
      "\n"
     ]
    }
   ],
   "source": [
    "print(code)"
   ]
  },
  {
   "cell_type": "code",
   "execution_count": null,
   "metadata": {},
   "outputs": [],
   "source": []
  }
 ],
 "metadata": {
  "kernelspec": {
   "display_name": "Python 3",
   "language": "python",
   "name": "python3"
  },
  "language_info": {
   "codemirror_mode": {
    "name": "ipython",
    "version": 3
   },
   "file_extension": ".py",
   "mimetype": "text/x-python",
   "name": "python",
   "nbconvert_exporter": "python",
   "pygments_lexer": "ipython3",
   "version": "3.6.9"
  }
 },
 "nbformat": 4,
 "nbformat_minor": 4
}
