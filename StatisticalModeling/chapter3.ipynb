{
 "cells": [
  {
   "cell_type": "code",
   "execution_count": 1,
   "metadata": {},
   "outputs": [],
   "source": [
    "import pandas as pd\n",
    "\n",
    "d = pd.read_csv(\"./data/data.csv\")\n"
   ]
  },
  {
   "cell_type": "code",
   "execution_count": 2,
   "metadata": {},
   "outputs": [
    {
     "name": "stdout",
     "output_type": "stream",
     "text": [
      "y : Min =  2.00, Max = 15.00, 1st Qu =  6.00, Median =  8.00, 3rd Qu = 10.00, Mean =  7.83\n",
      "x : Min =  7.19, Max = 12.40, 1st Qu =  9.43, Median = 10.16, 3rd Qu = 10.73, Mean = 10.09\n",
      "f : T : 50, C : 50, "
     ]
    }
   ],
   "source": [
    "import numpy as np\n",
    "\n",
    "def summary(d):\n",
    "    for col in d.columns:\n",
    "        vals = d[col].values\n",
    "        if type(d[col][0]) == str:\n",
    "            type_list = set(list(vals))\n",
    "            print('{} : '.format(col), end='')\n",
    "            for t in type_list:\n",
    "                print('{} : {}'.format(t, np.count_nonzero(vals==t)), end=', ')\n",
    "        else:\n",
    "            v_sort = np.sort(vals)\n",
    "            print('{} : Min = {:5.2f}, Max = {:5.2f}, 1st Qu = {:5.2f}, '\n",
    "                  'Median = {:5.2f}, 3rd Qu = {:5.2f}, Mean = {:5.2f}'.format(\n",
    "                      col, min(vals), max(vals), v_sort[int(vals.size / 4)], v_sort[int(vals.size / 2)], v_sort[int(vals.size * 0.75)], vals.mean()))\n",
    "\n",
    "        \n",
    "summary(d)"
   ]
  },
  {
   "cell_type": "code",
   "execution_count": 4,
   "metadata": {},
   "outputs": [
    {
     "data": {
      "image/png": "[encoded data removed]",
      "text/plain": [
       "<Figure size 432x288 with 1 Axes>"
      ]
     },
     "metadata": {
      "needs_background": "light"
     },
     "output_type": "display_data"
    }
   ],
   "source": [
    "import matplotlib.pyplot as plt\n",
    "\n",
    "plt.scatter(d['x'][d['f']=='C'], d['y'][d['f']=='C'], label='C')\n",
    "plt.scatter(d['x'][d['f']=='T'], d['y'][d['f']=='T'], label='T')\n",
    "plt.xlabel('d$[x]')\n",
    "plt.ylabel('d$[y]')\n",
    "plt.legend()\n",
    "plt.show()"
   ]
  },
  {
   "cell_type": "code",
   "execution_count": 5,
   "metadata": {},
   "outputs": [
    {
     "data": {
      "image/png": "[encoded data removed]",
      "text/plain": [
       "<Figure size 432x288 with 1 Axes>"
      ]
     },
     "metadata": {
      "needs_background": "light"
     },
     "output_type": "display_data"
    }
   ],
   "source": [
    "fig, ax = plt.subplots()\n",
    "# boxplot の引数 whis でどこまでひげを引っ張るか設定する\n",
    "ax.boxplot((d['y'][d['f'] == \"C\"], d['y'][d['f'] == \"T\"]))\n",
    "ax.set_xticklabels(['T', 'C'])\n",
    "ax.set_xlabel('d$[f]')\n",
    "ax.set_ylabel('d$[y]')\n",
    "plt.show()"
   ]
  },
  {
   "cell_type": "code",
   "execution_count": 7,
   "metadata": {},
   "outputs": [],
   "source": [
    "import statsmodels.api as sm\n",
    "import statsmodels.formula.api as smf"
   ]
  },
  {
   "cell_type": "code",
   "execution_count": 8,
   "metadata": {},
   "outputs": [],
   "source": [
    "dat = sm.datasets.get_rdataset(\"Guerry\", \"HistData\").data"
   ]
  },
  {
   "cell_type": "code",
   "execution_count": 11,
   "metadata": {},
   "outputs": [
    {
     "name": "stdout",
     "output_type": "stream",
     "text": [
      "                            OLS Regression Results                            \n",
      "==============================================================================\n",
      "Dep. Variable:                Lottery   R-squared:                       0.348\n",
      "Model:                            OLS   Adj. R-squared:                  0.333\n",
      "Method:                 Least Squares   F-statistic:                     22.20\n",
      "Date:                Thu, 07 Nov 2019   Prob (F-statistic):           1.90e-08\n",
      "Time:                        14:25:49   Log-Likelihood:                -379.82\n",
      "No. Observations:                  86   AIC:                             765.6\n",
      "Df Residuals:                      83   BIC:                             773.0\n",
      "Df Model:                           2                                         \n",
      "Covariance Type:            nonrobust                                         \n",
      "===================================================================================\n",
      "                      coef    std err          t      P>|t|      [0.025      0.975]\n",
      "-----------------------------------------------------------------------------------\n",
      "Intercept         246.4341     35.233      6.995      0.000     176.358     316.510\n",
      "Literacy           -0.4889      0.128     -3.832      0.000      -0.743      -0.235\n",
      "np.log(Pop1831)   -31.3114      5.977     -5.239      0.000     -43.199     -19.424\n",
      "==============================================================================\n",
      "Omnibus:                        3.713   Durbin-Watson:                   2.019\n",
      "Prob(Omnibus):                  0.156   Jarque-Bera (JB):                3.394\n",
      "Skew:                          -0.487   Prob(JB):                        0.183\n",
      "Kurtosis:                       3.003   Cond. No.                         702.\n",
      "==============================================================================\n",
      "\n",
      "Warnings:\n",
      "[1] Standard Errors assume that the covariance matrix of the errors is correctly specified.\n"
     ]
    }
   ],
   "source": [
    "results = smf.ols('Lottery ~ Literacy + np.log(Pop1831)', data=dat).fit()\n",
    "print(results.summary())"
   ]
  }
 ],
 "metadata": {
  "kernelspec": {
   "display_name": "Python 3",
   "language": "python",
   "name": "python3"
  },
  "language_info": {
   "codemirror_mode": {
    "name": "ipython",
    "version": 3
   },
   "file_extension": ".py",
   "mimetype": "text/x-python",
   "name": "python",
   "nbconvert_exporter": "python",
   "pygments_lexer": "ipython3",
   "version": "3.7.3"
  }
 },
 "nbformat": 4,
 "nbformat_minor": 4
}
