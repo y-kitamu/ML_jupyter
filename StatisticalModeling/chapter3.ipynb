{
 "cells": [
  {
   "cell_type": "code",
   "execution_count": 4,
   "metadata": {},
   "outputs": [],
   "source": [
    "import pandas as pd\n",
    "\n",
    "d = pd.read_csv(\"./data/data.csv\")\n"
   ]
  },
  {
   "cell_type": "code",
   "execution_count": 58,
   "metadata": {},
   "outputs": [
    {
     "name": "stdout",
     "output_type": "stream",
     "text": [
      "y : Min =  2.00, Max = 15.00, 1st Qu =  6.00, Median =  8.00, 3rd Qu = 10.00, Mean =  7.83\n",
      "x : Min =  7.19, Max = 12.40, 1st Qu =  9.43, Median = 10.16, 3rd Qu = 10.73, Mean = 10.09\n",
      "f : T : 50, C : 50, "
     ]
    }
   ],
   "source": [
    "import numpy as np\n",
    "\n",
    "def summary(d):\n",
    "    for col in d.columns:\n",
    "        vals = d[col].values\n",
    "        if type(d[col][0]) == str:\n",
    "            type_list = set(list(vals))\n",
    "            print('{} : '.format(col), end='')\n",
    "            for t in type_list:\n",
    "                print('{} : {}'.format(t, np.count_nonzero(vals==t)), end=', ')\n",
    "        else:\n",
    "            v_sort = np.sort(vals)\n",
    "            print('{} : Min = {:5.2f}, Max = {:5.2f}, 1st Qu = {:5.2f}, '\n",
    "                  'Median = {:5.2f}, 3rd Qu = {:5.2f}, Mean = {:5.2f}'.format(\n",
    "                      col, min(vals), max(vals), v_sort[int(vals.size / 4)], v_sort[int(vals.size / 2)], v_sort[int(vals.size * 0.75)], vals.mean()))\n",
    "\n",
    "        \n",
    "summary(d)"
   ]
  },
  {
   "cell_type": "code",
   "execution_count": 67,
   "metadata": {},
   "outputs": [
    {
     "data": {
      "image/png": "[encoded data removed]",
      "text/plain": [
       "<Figure size 432x288 with 1 Axes>"
      ]
     },
     "metadata": {
      "needs_background": "light"
     },
     "output_type": "display_data"
    }
   ],
   "source": [
    "import matplotlib.pyplot as plt\n",
    "\n",
    "plt.scatter(d['x'][d['f']=='C'], d['y'][d['f']=='C'], label='C')\n",
    "plt.scatter(d['x'][d['f']=='F'], d['y'][d['f']=='F'], label='F')\n",
    "plt.xlabel('d$[x]')\n",
    "plt.ylabel('d$[y]')\n",
    "plt.legend()\n",
    "plt.show()"
   ]
  }
 ],
 "metadata": {
  "kernelspec": {
   "display_name": "Python 3",
   "language": "python",
   "name": "python3"
  },
  "language_info": {
   "codemirror_mode": {
    "name": "ipython",
    "version": 3
   },
   "file_extension": ".py",
   "mimetype": "text/x-python",
   "name": "python",
   "nbconvert_exporter": "python",
   "pygments_lexer": "ipython3",
   "version": "3.7.3"
  }
 },
 "nbformat": 4,
 "nbformat_minor": 4
}
