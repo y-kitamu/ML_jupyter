{
 "cells": [
  {
   "cell_type": "markdown",
   "metadata": {},
   "source": [
    "# N本腕バンディットの実験\n",
    "greedy手法とepsilon-greedy手法を比較"
   ]
  },
  {
   "cell_type": "code",
   "execution_count": 2,
   "metadata": {},
   "outputs": [],
   "source": [
    "import numpy as np\n",
    "import matplotlib.pyplot as plt\n",
    "from tqdm import tqdm\n",
    "\n",
    "import mython"
   ]
  },
  {
   "cell_type": "code",
   "execution_count": 16,
   "metadata": {},
   "outputs": [],
   "source": [
    "class NArmBandit:\n",
    "    \"\"\"N本腕バンディット。各行動(a)の報酬Q(a)は、平均Q*(a), 分散1のガウス分布に従っている\n",
    "    Args:\n",
    "        n (int) : 腕(行動)の数\n",
    "    \"\"\"\n",
    "    def __init__(self, n=10):\n",
    "        self.arms = 10\n",
    "        self.true_rewards = np.random.normal(0.0, 1.0, self.arms)\n",
    "        \n",
    "    def get_reward(self, index):\n",
    "        return np.random.normal(self.true_rewards[index], 1.0)\n",
    "\n",
    "\n",
    "class Agent:\n",
    "    \"\"\"M個のN本腕バンディット環境。\n",
    "    Args:\n",
    "        m (int)\n",
    "        n (int)\n",
    "    \"\"\"\n",
    "    def __init__(self, m=2000, n=10):\n",
    "        self.bandits = [NArmBandit(n) for _ in range(m)]\n",
    "        self.sample_rewards = [[[] for _ in range(n)] for _ in range(m)]\n",
    "        self.sample_mean_reward = np.zeros((m, n))\n",
    "        \n",
    "    def reset(self):\n",
    "        self.sample_rewards = [[[] for _ in range(len(self.sample_rewards[0]))] \n",
    "                               for _ in range(len(self.sample_rewards))]\n",
    "        self.sample_mean_reward[:] = 0\n",
    "\n",
    "    def get_rewards(self, selected_indices):\n",
    "        total_reward = 0\n",
    "        for i, selected_idx in enumerate(selected_indices):\n",
    "            reward = self.bandits[i].get_reward(selected_idx)\n",
    "            self.sample_rewards[i][selected_idx].append(reward)\n",
    "            self.sample_mean_reward[i, selected_idx] = np.mean(self.sample_rewards[i][selected_idx])\n",
    "            total_reward += reward\n",
    "        return total_reward\n",
    "\n",
    "class Client:\n",
    "    \"\"\"ある戦略に沿ってM個のN本腕バンディットの報酬を獲得する\n",
    "    \"\"\"\n",
    "    def __init__(self, m=2000, n=10, k=1000):\n",
    "        self.agent = Agent(m, n)\n",
    "        self.rewards = []\n",
    "        self.m = m\n",
    "        self.k = k\n",
    "        \n",
    "    def run(self):\n",
    "        \"\"\"k回の試行を行う\n",
    "        \"\"\"\n",
    "        self.agent.reset()\n",
    "        self.rewards = []\n",
    "        for i in tqdm(range(self.k)):\n",
    "            reward = self.agent.get_rewards(self.select_indices())\n",
    "            self.rewards.append(reward / self.m)\n",
    "            \n",
    "    def select_indices(self):\n",
    "        \"\"\"\n",
    "        \"\"\"\n",
    "        raise NotImplemented\n",
    "        \n",
    "        \n",
    "class GreedyClient(Client):\n",
    "    def select_indices(self):\n",
    "        return self.agent.sample_mean_reward.argmax(axis=1)\n",
    "    \n",
    "class EpsilonGreedyClient(GreedyClient):\n",
    "    def __init__(self, m=2000, n=10, k=1000, epsilon=0.1):\n",
    "        super().__init__(m, n, k)\n",
    "        self.epsilon = epsilon\n",
    "        \n",
    "    def select_indices(self):\n",
    "        indices = super().select_indices()\n",
    "        for idx, bandit in enumerate(self.agent.bandits):\n",
    "            if np.random.rand() < self.epsilon:\n",
    "                indices[idx] = np.random.randint(bandit.arms)\n",
    "        return indices"
   ]
  },
  {
   "cell_type": "code",
   "execution_count": 9,
   "metadata": {},
   "outputs": [
    {
     "name": "stderr",
     "output_type": "stream",
     "text": [
      "100%|██████████| 1000/1000 [00:50<00:00, 19.73it/s]\n"
     ]
    }
   ],
   "source": [
    "client = GreedyClient()\n",
    "\n",
    "mython.debug.start_pdb(\n",
    "    client.run\n",
    ")"
   ]
  },
  {
   "cell_type": "code",
   "execution_count": 17,
   "metadata": {},
   "outputs": [
    {
     "name": "stderr",
     "output_type": "stream",
     "text": [
      "100%|██████████| 1000/1000 [00:45<00:00, 21.98it/s]\n"
     ]
    }
   ],
   "source": [
    "eg_client = EpsilonGreedyClient()\n",
    "eg_client.run()"
   ]
  },
  {
   "cell_type": "code",
   "execution_count": 18,
   "metadata": {},
   "outputs": [
    {
     "data": {
      "text/plain": [
       "[<matplotlib.lines.Line2D at 0x7f044f33ba58>]"
      ]
     },
     "execution_count": 18,
     "metadata": {},
     "output_type": "execute_result"
    },
    {
     "data": {
      "image/png": "[encoded data removed]",
      "text/plain": [
       "<Figure size 432x288 with 1 Axes>"
      ]
     },
     "metadata": {
      "needs_background": "light"
     },
     "output_type": "display_data"
    }
   ],
   "source": [
    "plt.plot(client.rewards)\n",
    "plt.plot(eg_client.rewards)"
   ]
  }
 ],
 "metadata": {
  "kernelspec": {
   "display_name": "Python 3",
   "language": "python",
   "name": "python3"
  },
  "language_info": {
   "codemirror_mode": {
    "name": "ipython",
    "version": 3
   },
   "file_extension": ".py",
   "mimetype": "text/x-python",
   "name": "python",
   "nbconvert_exporter": "python",
   "pygments_lexer": "ipython3",
   "version": "3.6.9"
  }
 },
 "nbformat": 4,
 "nbformat_minor": 4
}
