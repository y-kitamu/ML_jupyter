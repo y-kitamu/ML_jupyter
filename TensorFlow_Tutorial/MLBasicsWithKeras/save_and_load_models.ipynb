{
 "cells": [
  {
   "cell_type": "code",
   "execution_count": 1,
   "metadata": {},
   "outputs": [
    {
     "name": "stdout",
     "output_type": "stream",
     "text": [
      "2.0.0\n"
     ]
    }
   ],
   "source": [
    "import os \n",
    "\n",
    "import tensorflow as tf\n",
    "from tensorflow import keras\n",
    "\n",
    "print(tf.version.VERSION)"
   ]
  },
  {
   "cell_type": "code",
   "execution_count": 3,
   "metadata": {},
   "outputs": [
    {
     "name": "stdout",
     "output_type": "stream",
     "text": [
      "Downloading data from https://storage.googleapis.com/tensorflow/tf-keras-datasets/mnist.npz\n",
      "11493376/11490434 [==============================] - 5s 0us/step\n"
     ]
    }
   ],
   "source": [
    "(train_images, train_labels), (test_images, test_labels) = tf.keras.datasets.mnist.load_data()\n",
    "train_labels = train_labels[:1000]\n",
    "test_labels = test_labels[:1000]\n",
    "\n",
    "train_images = train_images[:1000].reshape(-1, 28 * 28) / 255.0\n",
    "test_images  =test_images[:1000].reshape(-1, 28 * 28) / 255.0"
   ]
  },
  {
   "cell_type": "code",
   "execution_count": 4,
   "metadata": {},
   "outputs": [],
   "source": [
    "def create_model():\n",
    "    model = tf.keras.Sequential([\n",
    "        keras.layers.Dense(512, activation='relu', input_shape=(784,)),\n",
    "        keras.layers.Dropout(0.2),\n",
    "        keras.layers.Dense(10, activation='softmax')\n",
    "    ])\n",
    "    \n",
    "    model.compile(optimizer='adam', loss='sparse_categorical_crossentropy',\n",
    "                  metrics=['accuracy'])\n",
    "    return model"
   ]
  },
  {
   "cell_type": "code",
   "execution_count": 5,
   "metadata": {},
   "outputs": [
    {
     "name": "stdout",
     "output_type": "stream",
     "text": [
      "Model: \"sequential\"\n",
      "_________________________________________________________________\n",
      "Layer (type)                 Output Shape              Param #   \n",
      "=================================================================\n",
      "dense (Dense)                (None, 512)               401920    \n",
      "_________________________________________________________________\n",
      "dropout (Dropout)            (None, 512)               0         \n",
      "_________________________________________________________________\n",
      "dense_1 (Dense)              (None, 10)                5130      \n",
      "=================================================================\n",
      "Total params: 407,050\n",
      "Trainable params: 407,050\n",
      "Non-trainable params: 0\n",
      "_________________________________________________________________\n"
     ]
    }
   ],
   "source": [
    "model = create_model()\n",
    "model.summary()"
   ]
  },
  {
   "cell_type": "code",
   "execution_count": 6,
   "metadata": {},
   "outputs": [
    {
     "name": "stdout",
     "output_type": "stream",
     "text": [
      "Train on 1000 samples, validate on 1000 samples\n",
      "Epoch 1/10\n",
      " 928/1000 [==========================>...] - ETA: 0s - loss: 1.2127 - accuracy: 0.6573 \n",
      "Epoch 00001: saving model to training_1/cp.ckpt\n",
      "1000/1000 [==============================] - 1s 608us/sample - loss: 1.1642 - accuracy: 0.6720 - val_loss: 0.7329 - val_accuracy: 0.7800\n",
      "Epoch 2/10\n",
      "  32/1000 [..............................] - ETA: 0s - loss: 0.3538 - accuracy: 0.9062\n",
      "Epoch 00002: saving model to training_1/cp.ckpt\n",
      "1000/1000 [==============================] - 0s 116us/sample - loss: 0.4307 - accuracy: 0.8740 - val_loss: 0.5557 - val_accuracy: 0.8230\n",
      "Epoch 3/10\n",
      "  32/1000 [..............................] - ETA: 0s - loss: 0.4570 - accuracy: 0.8438\n",
      "Epoch 00003: saving model to training_1/cp.ckpt\n",
      "1000/1000 [==============================] - 0s 115us/sample - loss: 0.2847 - accuracy: 0.9340 - val_loss: 0.4870 - val_accuracy: 0.8410\n",
      "Epoch 4/10\n",
      " 992/1000 [============================>.] - ETA: 0s - loss: 0.2113 - accuracy: 0.9486\n",
      "Epoch 00004: saving model to training_1/cp.ckpt\n",
      "1000/1000 [==============================] - 0s 119us/sample - loss: 0.2127 - accuracy: 0.9480 - val_loss: 0.4804 - val_accuracy: 0.8480\n",
      "Epoch 5/10\n",
      " 992/1000 [============================>.] - ETA: 0s - loss: 0.1548 - accuracy: 0.9657\n",
      "Epoch 00005: saving model to training_1/cp.ckpt\n",
      "1000/1000 [==============================] - 0s 123us/sample - loss: 0.1572 - accuracy: 0.9650 - val_loss: 0.4544 - val_accuracy: 0.8460\n",
      "Epoch 6/10\n",
      "  32/1000 [..............................] - ETA: 0s - loss: 0.0649 - accuracy: 1.0000\n",
      "Epoch 00006: saving model to training_1/cp.ckpt\n",
      "1000/1000 [==============================] - 0s 117us/sample - loss: 0.1215 - accuracy: 0.9740 - val_loss: 0.4197 - val_accuracy: 0.8600\n",
      "Epoch 7/10\n",
      " 992/1000 [============================>.] - ETA: 0s - loss: 0.0851 - accuracy: 0.9879\n",
      "Epoch 00007: saving model to training_1/cp.ckpt\n",
      "1000/1000 [==============================] - 0s 122us/sample - loss: 0.0852 - accuracy: 0.9880 - val_loss: 0.4110 - val_accuracy: 0.8650\n",
      "Epoch 8/10\n",
      "  32/1000 [..............................] - ETA: 0s - loss: 0.0664 - accuracy: 1.0000\n",
      "Epoch 00008: saving model to training_1/cp.ckpt\n",
      "1000/1000 [==============================] - 0s 119us/sample - loss: 0.0615 - accuracy: 0.9930 - val_loss: 0.4163 - val_accuracy: 0.8620\n",
      "Epoch 9/10\n",
      "  32/1000 [..............................] - ETA: 0s - loss: 0.0633 - accuracy: 0.9688\n",
      "Epoch 00009: saving model to training_1/cp.ckpt\n",
      "1000/1000 [==============================] - 0s 118us/sample - loss: 0.0508 - accuracy: 0.9980 - val_loss: 0.4099 - val_accuracy: 0.8690\n",
      "Epoch 10/10\n",
      "  32/1000 [..............................] - ETA: 0s - loss: 0.0310 - accuracy: 1.0000\n",
      "Epoch 00010: saving model to training_1/cp.ckpt\n",
      "1000/1000 [==============================] - 0s 114us/sample - loss: 0.0432 - accuracy: 0.9960 - val_loss: 0.4127 - val_accuracy: 0.8730\n"
     ]
    },
    {
     "data": {
      "text/plain": [
       "<tensorflow.python.keras.callbacks.History at 0x7efb4c5b7ba8>"
      ]
     },
     "execution_count": 6,
     "metadata": {},
     "output_type": "execute_result"
    }
   ],
   "source": [
    "checkpoint_path = 'training_1/cp.ckpt'\n",
    "checkpoint_dir = os.path.dirname(checkpoint_path)\n",
    "\n",
    "cp_callback = tf.keras.callbacks.ModelCheckpoint(filepath=checkpoint_path,\n",
    "                                                 save_weights_only=True,\n",
    "                                                 verbose=1)\n",
    "\n",
    "model.fit(train_images,\n",
    "          train_labels,\n",
    "          epochs=10,\n",
    "          validation_data=(test_images, test_labels),\n",
    "          callbacks=[cp_callback])"
   ]
  },
  {
   "cell_type": "code",
   "execution_count": 7,
   "metadata": {},
   "outputs": [
    {
     "name": "stdout",
     "output_type": "stream",
     "text": [
      "checkpoint\t\t     cp.ckpt.data-00001-of-00002\n",
      "cp.ckpt.data-00000-of-00002  cp.ckpt.index\n"
     ]
    }
   ],
   "source": [
    "!ls {checkpoint_dir}"
   ]
  },
  {
   "cell_type": "code",
   "execution_count": 8,
   "metadata": {},
   "outputs": [
    {
     "name": "stdout",
     "output_type": "stream",
     "text": [
      "1000/1 - 0s - loss: 2.4431 - accuracy: 0.1370\n",
      "Untrained model, accuracy : 13.70%\n"
     ]
    }
   ],
   "source": [
    "model = create_model()\n",
    "\n",
    "loss, acc = model.evaluate(test_images, test_labels, verbose=2)\n",
    "print('Untrained model, accuracy : {:5.2f}%'.format(100 * acc))"
   ]
  },
  {
   "cell_type": "code",
   "execution_count": 9,
   "metadata": {},
   "outputs": [
    {
     "name": "stdout",
     "output_type": "stream",
     "text": [
      "1000/1 - 0s - loss: 0.5130 - accuracy: 0.8730\n",
      "Restored model, accuracy: 87.30%\n"
     ]
    }
   ],
   "source": [
    "model.load_weights(checkpoint_path)\n",
    "loss, acc = model.evaluate(test_images, test_labels, verbose=2)\n",
    "print('Restored model, accuracy: {:5.2f}%'.format(100 * acc))"
   ]
  },
  {
   "cell_type": "code",
   "execution_count": 13,
   "metadata": {},
   "outputs": [
    {
     "name": "stdout",
     "output_type": "stream",
     "text": [
      "WARNING:tensorflow:`period` argument is deprecated. Please use `save_freq` to specify the frequency in number of samples seen.\n",
      "\n",
      "Epoch 00005: saving model to training_2/cp-0005.ckpt\n",
      "\n",
      "Epoch 00010: saving model to training_2/cp-0010.ckpt\n",
      "\n",
      "Epoch 00015: saving model to training_2/cp-0015.ckpt\n",
      "\n",
      "Epoch 00020: saving model to training_2/cp-0020.ckpt\n",
      "\n",
      "Epoch 00025: saving model to training_2/cp-0025.ckpt\n",
      "\n",
      "Epoch 00030: saving model to training_2/cp-0030.ckpt\n",
      "\n",
      "Epoch 00035: saving model to training_2/cp-0035.ckpt\n",
      "\n",
      "Epoch 00040: saving model to training_2/cp-0040.ckpt\n",
      "\n",
      "Epoch 00045: saving model to training_2/cp-0045.ckpt\n",
      "\n",
      "Epoch 00050: saving model to training_2/cp-0050.ckpt\n"
     ]
    },
    {
     "data": {
      "text/plain": [
       "<tensorflow.python.keras.callbacks.History at 0x7efbd7746b00>"
      ]
     },
     "execution_count": 13,
     "metadata": {},
     "output_type": "execute_result"
    }
   ],
   "source": [
    "checkpoint_path = \"training_2/cp-{epoch:04d}.ckpt\"\n",
    "checkpoint_dir = os.path.dirname(checkpoint_path)\n",
    "\n",
    "cp_callback = tf.keras.callbacks.ModelCheckpoint(\n",
    "    filepath=checkpoint_path,\n",
    "    verbose=1,\n",
    "    save_weights_only=True,\n",
    "    period=5)\n",
    "\n",
    "model = create_model()\n",
    "model.save_weights(checkpoint_path.format(epoch=0))\n",
    "model.fit(train_images,\n",
    "          train_labels,\n",
    "          epochs=50,\n",
    "          callbacks=[cp_callback],\n",
    "          validation_data=(test_images, test_labels),\n",
    "          verbose=0)"
   ]
  },
  {
   "cell_type": "code",
   "execution_count": 14,
   "metadata": {
    "collapsed": true,
    "jupyter": {
     "outputs_hidden": true
    }
   },
   "outputs": [
    {
     "name": "stdout",
     "output_type": "stream",
     "text": [
      "checkpoint\t\t\t  cp-0025.ckpt.data-00001-of-00002\n",
      "cp-0000.ckpt.data-00000-of-00002  cp-0025.ckpt.index\n",
      "cp-0000.ckpt.data-00001-of-00002  cp-0026.ckpt.data-00000-of-00002\n",
      "cp-0000.ckpt.index\t\t  cp-0026.ckpt.data-00001-of-00002\n",
      "cp-0001.ckpt.data-00000-of-00002  cp-0026.ckpt.index\n",
      "cp-0001.ckpt.data-00001-of-00002  cp-0027.ckpt.data-00000-of-00002\n",
      "cp-0001.ckpt.index\t\t  cp-0027.ckpt.data-00001-of-00002\n",
      "cp-0002.ckpt.data-00000-of-00002  cp-0027.ckpt.index\n",
      "cp-0002.ckpt.data-00001-of-00002  cp-0028.ckpt.data-00000-of-00002\n",
      "cp-0002.ckpt.index\t\t  cp-0028.ckpt.data-00001-of-00002\n",
      "cp-0003.ckpt.data-00000-of-00002  cp-0028.ckpt.index\n",
      "cp-0003.ckpt.data-00001-of-00002  cp-0029.ckpt.data-00000-of-00002\n",
      "cp-0003.ckpt.index\t\t  cp-0029.ckpt.data-00001-of-00002\n",
      "cp-0004.ckpt.data-00000-of-00002  cp-0029.ckpt.index\n",
      "cp-0004.ckpt.data-00001-of-00002  cp-0030.ckpt.data-00000-of-00002\n",
      "cp-0004.ckpt.index\t\t  cp-0030.ckpt.data-00001-of-00002\n",
      "cp-0005.ckpt.data-00000-of-00002  cp-0030.ckpt.index\n",
      "cp-0005.ckpt.data-00001-of-00002  cp-0031.ckpt.data-00000-of-00002\n",
      "cp-0005.ckpt.index\t\t  cp-0031.ckpt.data-00001-of-00002\n",
      "cp-0006.ckpt.data-00000-of-00002  cp-0031.ckpt.index\n",
      "cp-0006.ckpt.data-00001-of-00002  cp-0032.ckpt.data-00000-of-00002\n",
      "cp-0006.ckpt.index\t\t  cp-0032.ckpt.data-00001-of-00002\n",
      "cp-0007.ckpt.data-00000-of-00002  cp-0032.ckpt.index\n",
      "cp-0007.ckpt.data-00001-of-00002  cp-0033.ckpt.data-00000-of-00002\n",
      "cp-0007.ckpt.index\t\t  cp-0033.ckpt.data-00001-of-00002\n",
      "cp-0008.ckpt.data-00000-of-00002  cp-0033.ckpt.index\n",
      "cp-0008.ckpt.data-00001-of-00002  cp-0034.ckpt.data-00000-of-00002\n",
      "cp-0008.ckpt.index\t\t  cp-0034.ckpt.data-00001-of-00002\n",
      "cp-0009.ckpt.data-00000-of-00002  cp-0034.ckpt.index\n",
      "cp-0009.ckpt.data-00001-of-00002  cp-0035.ckpt.data-00000-of-00002\n",
      "cp-0009.ckpt.index\t\t  cp-0035.ckpt.data-00001-of-00002\n",
      "cp-0010.ckpt.data-00000-of-00002  cp-0035.ckpt.index\n",
      "cp-0010.ckpt.data-00001-of-00002  cp-0036.ckpt.data-00000-of-00002\n",
      "cp-0010.ckpt.index\t\t  cp-0036.ckpt.data-00001-of-00002\n",
      "cp-0011.ckpt.data-00000-of-00002  cp-0036.ckpt.index\n",
      "cp-0011.ckpt.data-00001-of-00002  cp-0037.ckpt.data-00000-of-00002\n",
      "cp-0011.ckpt.index\t\t  cp-0037.ckpt.data-00001-of-00002\n",
      "cp-0012.ckpt.data-00000-of-00002  cp-0037.ckpt.index\n",
      "cp-0012.ckpt.data-00001-of-00002  cp-0038.ckpt.data-00000-of-00002\n",
      "cp-0012.ckpt.index\t\t  cp-0038.ckpt.data-00001-of-00002\n",
      "cp-0013.ckpt.data-00000-of-00002  cp-0038.ckpt.index\n",
      "cp-0013.ckpt.data-00001-of-00002  cp-0039.ckpt.data-00000-of-00002\n",
      "cp-0013.ckpt.index\t\t  cp-0039.ckpt.data-00001-of-00002\n",
      "cp-0014.ckpt.data-00000-of-00002  cp-0039.ckpt.index\n",
      "cp-0014.ckpt.data-00001-of-00002  cp-0040.ckpt.data-00000-of-00002\n",
      "cp-0014.ckpt.index\t\t  cp-0040.ckpt.data-00001-of-00002\n",
      "cp-0015.ckpt.data-00000-of-00002  cp-0040.ckpt.index\n",
      "cp-0015.ckpt.data-00001-of-00002  cp-0041.ckpt.data-00000-of-00002\n",
      "cp-0015.ckpt.index\t\t  cp-0041.ckpt.data-00001-of-00002\n",
      "cp-0016.ckpt.data-00000-of-00002  cp-0041.ckpt.index\n",
      "cp-0016.ckpt.data-00001-of-00002  cp-0042.ckpt.data-00000-of-00002\n",
      "cp-0016.ckpt.index\t\t  cp-0042.ckpt.data-00001-of-00002\n",
      "cp-0017.ckpt.data-00000-of-00002  cp-0042.ckpt.index\n",
      "cp-0017.ckpt.data-00001-of-00002  cp-0043.ckpt.data-00000-of-00002\n",
      "cp-0017.ckpt.index\t\t  cp-0043.ckpt.data-00001-of-00002\n",
      "cp-0018.ckpt.data-00000-of-00002  cp-0043.ckpt.index\n",
      "cp-0018.ckpt.data-00001-of-00002  cp-0044.ckpt.data-00000-of-00002\n",
      "cp-0018.ckpt.index\t\t  cp-0044.ckpt.data-00001-of-00002\n",
      "cp-0019.ckpt.data-00000-of-00002  cp-0044.ckpt.index\n",
      "cp-0019.ckpt.data-00001-of-00002  cp-0045.ckpt.data-00000-of-00002\n",
      "cp-0019.ckpt.index\t\t  cp-0045.ckpt.data-00001-of-00002\n",
      "cp-0020.ckpt.data-00000-of-00002  cp-0045.ckpt.index\n",
      "cp-0020.ckpt.data-00001-of-00002  cp-0046.ckpt.data-00000-of-00002\n",
      "cp-0020.ckpt.index\t\t  cp-0046.ckpt.data-00001-of-00002\n",
      "cp-0021.ckpt.data-00000-of-00002  cp-0046.ckpt.index\n",
      "cp-0021.ckpt.data-00001-of-00002  cp-0047.ckpt.data-00000-of-00002\n",
      "cp-0021.ckpt.index\t\t  cp-0047.ckpt.data-00001-of-00002\n",
      "cp-0022.ckpt.data-00000-of-00002  cp-0047.ckpt.index\n",
      "cp-0022.ckpt.data-00001-of-00002  cp-0048.ckpt.data-00000-of-00002\n",
      "cp-0022.ckpt.index\t\t  cp-0048.ckpt.data-00001-of-00002\n",
      "cp-0023.ckpt.data-00000-of-00002  cp-0048.ckpt.index\n",
      "cp-0023.ckpt.data-00001-of-00002  cp-0049.ckpt.data-00000-of-00002\n",
      "cp-0023.ckpt.index\t\t  cp-0049.ckpt.data-00001-of-00002\n",
      "cp-0024.ckpt.data-00000-of-00002  cp-0049.ckpt.index\n",
      "cp-0024.ckpt.data-00001-of-00002  cp-0050.ckpt.data-00000-of-00002\n",
      "cp-0024.ckpt.index\t\t  cp-0050.ckpt.data-00001-of-00002\n",
      "cp-0025.ckpt.data-00000-of-00002  cp-0050.ckpt.index\n"
     ]
    }
   ],
   "source": [
    "!ls {checkpoint_dir}"
   ]
  },
  {
   "cell_type": "code",
   "execution_count": 15,
   "metadata": {},
   "outputs": [],
   "source": [
    "latest = tf.train.latest_checkpoint(checkpoint_dir)"
   ]
  },
  {
   "cell_type": "code",
   "execution_count": 16,
   "metadata": {},
   "outputs": [
    {
     "data": {
      "text/plain": [
       "'training_2/cp-0050.ckpt'"
      ]
     },
     "execution_count": 16,
     "metadata": {},
     "output_type": "execute_result"
    }
   ],
   "source": [
    "latest"
   ]
  },
  {
   "cell_type": "code",
   "execution_count": 17,
   "metadata": {},
   "outputs": [
    {
     "name": "stdout",
     "output_type": "stream",
     "text": [
      "1000/1 - 0s - loss: 0.6052 - accuracy: 0.8750\n",
      "Restored model, accuracy: 87.50%\n"
     ]
    }
   ],
   "source": [
    "model = create_model()\n",
    "model.load_weights(latest)\n",
    "loss, acc = model.evaluate(test_images, test_labels, verbose=2)\n",
    "print(\"Restored model, accuracy: {:5.2f}%\".format(100 * acc))"
   ]
  },
  {
   "cell_type": "code",
   "execution_count": 18,
   "metadata": {},
   "outputs": [
    {
     "name": "stdout",
     "output_type": "stream",
     "text": [
      "Train on 1000 samples\n",
      "Epoch 1/5\n",
      "1000/1000 [==============================] - 0s 235us/sample - loss: 1.1530 - accuracy: 0.6750\n",
      "Epoch 2/5\n",
      "1000/1000 [==============================] - 0s 56us/sample - loss: 0.4403 - accuracy: 0.8830\n",
      "Epoch 3/5\n",
      "1000/1000 [==============================] - 0s 58us/sample - loss: 0.2884 - accuracy: 0.9290\n",
      "Epoch 4/5\n",
      "1000/1000 [==============================] - 0s 57us/sample - loss: 0.2118 - accuracy: 0.9500\n",
      "Epoch 5/5\n",
      "1000/1000 [==============================] - 0s 54us/sample - loss: 0.1519 - accuracy: 0.9680\n"
     ]
    }
   ],
   "source": [
    "model = create_model()\n",
    "model.fit(train_images, train_labels, epochs=5)\n",
    "\n",
    "model.save('my_model.h5')"
   ]
  },
  {
   "cell_type": "code",
   "execution_count": 19,
   "metadata": {},
   "outputs": [],
   "source": [
    "new_model = tf.keras.models.load_model('my_model.h5')"
   ]
  },
  {
   "cell_type": "code",
   "execution_count": 21,
   "metadata": {},
   "outputs": [
    {
     "name": "stdout",
     "output_type": "stream",
     "text": [
      "Model: \"sequential_6\"\n",
      "_________________________________________________________________\n",
      "Layer (type)                 Output Shape              Param #   \n",
      "=================================================================\n",
      "dense_12 (Dense)             (None, 512)               401920    \n",
      "_________________________________________________________________\n",
      "dropout_6 (Dropout)          (None, 512)               0         \n",
      "_________________________________________________________________\n",
      "dense_13 (Dense)             (None, 10)                5130      \n",
      "=================================================================\n",
      "Total params: 407,050\n",
      "Trainable params: 407,050\n",
      "Non-trainable params: 0\n",
      "_________________________________________________________________\n"
     ]
    }
   ],
   "source": [
    "new_model.summary()"
   ]
  },
  {
   "cell_type": "code",
   "execution_count": 22,
   "metadata": {},
   "outputs": [
    {
     "name": "stdout",
     "output_type": "stream",
     "text": [
      "1000/1 - 0s - loss: 0.4637 - accuracy: 0.8420\n",
      "Restored model, accuracy : 84.20%\n"
     ]
    }
   ],
   "source": [
    "loss, acc = new_model.evaluate(test_images, test_labels, verbose=2)\n",
    "print(\"Restored model, accuracy : {:5.2f}%\".format(100 * acc))"
   ]
  },
  {
   "cell_type": "code",
   "execution_count": 23,
   "metadata": {},
   "outputs": [
    {
     "name": "stdout",
     "output_type": "stream",
     "text": [
      "Train on 1000 samples\n",
      "Epoch 1/5\n",
      "WARNING:tensorflow:Unresolved object in checkpoint: (root).optimizer.iter\n",
      "WARNING:tensorflow:Unresolved object in checkpoint: (root).optimizer.beta_1\n",
      "WARNING:tensorflow:Unresolved object in checkpoint: (root).optimizer.beta_2\n",
      "WARNING:tensorflow:Unresolved object in checkpoint: (root).optimizer.decay\n",
      "WARNING:tensorflow:Unresolved object in checkpoint: (root).optimizer.learning_rate\n",
      "WARNING:tensorflow:A checkpoint was restored (e.g. tf.train.Checkpoint.restore or tf.keras.Model.load_weights) but not all checkpointed values were used. See above for specific issues. Use expect_partial() on the load status object, e.g. tf.train.Checkpoint.restore(...).expect_partial(), to silence these warnings, or use assert_consumed() to make the check explicit. See https://www.tensorflow.org/alpha/guide/checkpoints#loading_mechanics for details.\n",
      "1000/1000 [==============================] - 0s 337us/sample - loss: 1.1424 - accuracy: 0.6790\n",
      "Epoch 2/5\n",
      "1000/1000 [==============================] - 0s 55us/sample - loss: 0.4255 - accuracy: 0.8690\n",
      "Epoch 3/5\n",
      "1000/1000 [==============================] - 0s 57us/sample - loss: 0.2864 - accuracy: 0.9270\n",
      "Epoch 4/5\n",
      "1000/1000 [==============================] - 0s 56us/sample - loss: 0.2051 - accuracy: 0.9440\n",
      "Epoch 5/5\n",
      "1000/1000 [==============================] - 0s 56us/sample - loss: 0.1526 - accuracy: 0.9670\n",
      "WARNING:tensorflow:From /usr/local/lib/python3.6/dist-packages/tensorflow_core/python/ops/resource_variable_ops.py:1781: calling BaseResourceVariable.__init__ (from tensorflow.python.ops.resource_variable_ops) with constraint is deprecated and will be removed in a future version.\n",
      "Instructions for updating:\n",
      "If using Keras pass *_constraint arguments to layers.\n",
      "INFO:tensorflow:Assets written to: saved_model/my_model/assets\n"
     ]
    }
   ],
   "source": [
    "model = create_model()\n",
    "model.fit(train_images, train_labels, epochs=5)\n",
    "\n",
    "!mkdir -p saved_model\n",
    "model.save('saved_model/my_model')"
   ]
  },
  {
   "cell_type": "code",
   "execution_count": 24,
   "metadata": {},
   "outputs": [
    {
     "name": "stdout",
     "output_type": "stream",
     "text": [
      "my_model\n"
     ]
    }
   ],
   "source": [
    "!ls saved_model"
   ]
  },
  {
   "cell_type": "code",
   "execution_count": 25,
   "metadata": {},
   "outputs": [
    {
     "name": "stdout",
     "output_type": "stream",
     "text": [
      "assets\tsaved_model.pb\tvariables\n"
     ]
    }
   ],
   "source": [
    "!ls saved_model/my_model"
   ]
  },
  {
   "cell_type": "code",
   "execution_count": 26,
   "metadata": {},
   "outputs": [
    {
     "name": "stdout",
     "output_type": "stream",
     "text": [
      "Model: \"sequential_7\"\n",
      "_________________________________________________________________\n",
      "Layer (type)                 Output Shape              Param #   \n",
      "=================================================================\n",
      "dense_14 (Dense)             (None, 512)               401920    \n",
      "_________________________________________________________________\n",
      "dropout_7 (Dropout)          (None, 512)               0         \n",
      "_________________________________________________________________\n",
      "dense_15 (Dense)             (None, 10)                5130      \n",
      "=================================================================\n",
      "Total params: 407,050\n",
      "Trainable params: 407,050\n",
      "Non-trainable params: 0\n",
      "_________________________________________________________________\n"
     ]
    }
   ],
   "source": [
    "new_model = tf.keras.models.load_model('saved_model/my_model')\n",
    "new_model.summary()"
   ]
  },
  {
   "cell_type": "code",
   "execution_count": 27,
   "metadata": {},
   "outputs": [
    {
     "name": "stdout",
     "output_type": "stream",
     "text": [
      "1000/1 - 0s - loss: 0.5991 - accuracy: 0.8600\n",
      "Restored model, accuracy : 86.00%\n",
      "(1000, 10)\n"
     ]
    }
   ],
   "source": [
    "loss, acc = new_model.evaluate(test_images, test_labels, verbose=2)\n",
    "print('Restored model, accuracy : {:5.2f}%'.format(100 * acc))\n",
    "print(new_model.predict(test_images).shape)"
   ]
  },
  {
   "cell_type": "code",
   "execution_count": null,
   "metadata": {},
   "outputs": [],
   "source": []
  }
 ],
 "metadata": {
  "kernelspec": {
   "display_name": "Python 3",
   "language": "python",
   "name": "python3"
  },
  "language_info": {
   "codemirror_mode": {
    "name": "ipython",
    "version": 3
   },
   "file_extension": ".py",
   "mimetype": "text/x-python",
   "name": "python",
   "nbconvert_exporter": "python",
   "pygments_lexer": "ipython3",
   "version": "3.6.9"
  }
 },
 "nbformat": 4,
 "nbformat_minor": 4
}
