{
 "cells": [
  {
   "cell_type": "code",
   "execution_count": 1,
   "metadata": {},
   "outputs": [],
   "source": [
    "import tensorflow as tf\n",
    "import pandas as pd"
   ]
  },
  {
   "cell_type": "code",
   "execution_count": 2,
   "metadata": {},
   "outputs": [],
   "source": [
    "CSV_COLUMN_NAMES = [\"SepalLength\", \"SepalWidth\", \"PetalLength\", \"PetalWidth\", \"Speices\"]\n",
    "SPECIES = [\"Setosa\", \"Versicolor\", \"Virginica\"]"
   ]
  },
  {
   "cell_type": "code",
   "execution_count": 3,
   "metadata": {},
   "outputs": [
    {
     "name": "stdout",
     "output_type": "stream",
     "text": [
      "Downloading data from https://storage.googleapis.com/download.tensorflow.org/data/iris_training.csv\n",
      "8192/2194 [================================================================================================================] - 0s 0us/step\n",
      "Downloading data from https://storage.googleapis.com/download.tensorflow.org/data/iris_test.csv\n",
      "8192/573 [============================================================================================================================================================================================================================================================================================================================================================================================================================================] - 0s 0us/step\n"
     ]
    }
   ],
   "source": [
    "train_path = tf.keras.utils.get_file(\"iris_training.csv\", \"https://storage.googleapis.com/download.tensorflow.org/data/iris_training.csv\")\n",
    "test_path = tf.keras.utils.get_file(\"iris_test.csv\", \"https://storage.googleapis.com/download.tensorflow.org/data/iris_test.csv\")\n",
    "\n",
    "train = pd.read_csv(train_path, names=CSV_COLUMN_NAMES, header=0)\n",
    "test = pd.read_csv(test_path, names=CSV_COLUMN_NAMES, header=0)"
   ]
  },
  {
   "cell_type": "code",
   "execution_count": 4,
   "metadata": {},
   "outputs": [
    {
     "data": {
      "text/html": [
       "<div>\n",
       "<style scoped>\n",
       "    .dataframe tbody tr th:only-of-type {\n",
       "        vertical-align: middle;\n",
       "    }\n",
       "\n",
       "    .dataframe tbody tr th {\n",
       "        vertical-align: top;\n",
       "    }\n",
       "\n",
       "    .dataframe thead th {\n",
       "        text-align: right;\n",
       "    }\n",
       "</style>\n",
       "<table border=\"1\" class=\"dataframe\">\n",
       "  <thead>\n",
       "    <tr style=\"text-align: right;\">\n",
       "      <th></th>\n",
       "      <th>SepalLength</th>\n",
       "      <th>SepalWidth</th>\n",
       "      <th>PetalLength</th>\n",
       "      <th>PetalWidth</th>\n",
       "      <th>Speices</th>\n",
       "    </tr>\n",
       "  </thead>\n",
       "  <tbody>\n",
       "    <tr>\n",
       "      <th>0</th>\n",
       "      <td>6.4</td>\n",
       "      <td>2.8</td>\n",
       "      <td>5.6</td>\n",
       "      <td>2.2</td>\n",
       "      <td>2</td>\n",
       "    </tr>\n",
       "    <tr>\n",
       "      <th>1</th>\n",
       "      <td>5.0</td>\n",
       "      <td>2.3</td>\n",
       "      <td>3.3</td>\n",
       "      <td>1.0</td>\n",
       "      <td>1</td>\n",
       "    </tr>\n",
       "    <tr>\n",
       "      <th>2</th>\n",
       "      <td>4.9</td>\n",
       "      <td>2.5</td>\n",
       "      <td>4.5</td>\n",
       "      <td>1.7</td>\n",
       "      <td>2</td>\n",
       "    </tr>\n",
       "    <tr>\n",
       "      <th>3</th>\n",
       "      <td>4.9</td>\n",
       "      <td>3.1</td>\n",
       "      <td>1.5</td>\n",
       "      <td>0.1</td>\n",
       "      <td>0</td>\n",
       "    </tr>\n",
       "    <tr>\n",
       "      <th>4</th>\n",
       "      <td>5.7</td>\n",
       "      <td>3.8</td>\n",
       "      <td>1.7</td>\n",
       "      <td>0.3</td>\n",
       "      <td>0</td>\n",
       "    </tr>\n",
       "  </tbody>\n",
       "</table>\n",
       "</div>"
      ],
      "text/plain": [
       "   SepalLength  SepalWidth  PetalLength  PetalWidth  Speices\n",
       "0          6.4         2.8          5.6         2.2        2\n",
       "1          5.0         2.3          3.3         1.0        1\n",
       "2          4.9         2.5          4.5         1.7        2\n",
       "3          4.9         3.1          1.5         0.1        0\n",
       "4          5.7         3.8          1.7         0.3        0"
      ]
     },
     "execution_count": 4,
     "metadata": {},
     "output_type": "execute_result"
    }
   ],
   "source": [
    "train.head()"
   ]
  },
  {
   "cell_type": "code",
   "execution_count": 6,
   "metadata": {},
   "outputs": [
    {
     "data": {
      "text/html": [
       "<div>\n",
       "<style scoped>\n",
       "    .dataframe tbody tr th:only-of-type {\n",
       "        vertical-align: middle;\n",
       "    }\n",
       "\n",
       "    .dataframe tbody tr th {\n",
       "        vertical-align: top;\n",
       "    }\n",
       "\n",
       "    .dataframe thead th {\n",
       "        text-align: right;\n",
       "    }\n",
       "</style>\n",
       "<table border=\"1\" class=\"dataframe\">\n",
       "  <thead>\n",
       "    <tr style=\"text-align: right;\">\n",
       "      <th></th>\n",
       "      <th>SepalLength</th>\n",
       "      <th>SepalWidth</th>\n",
       "      <th>PetalLength</th>\n",
       "      <th>PetalWidth</th>\n",
       "    </tr>\n",
       "  </thead>\n",
       "  <tbody>\n",
       "    <tr>\n",
       "      <th>0</th>\n",
       "      <td>6.4</td>\n",
       "      <td>2.8</td>\n",
       "      <td>5.6</td>\n",
       "      <td>2.2</td>\n",
       "    </tr>\n",
       "    <tr>\n",
       "      <th>1</th>\n",
       "      <td>5.0</td>\n",
       "      <td>2.3</td>\n",
       "      <td>3.3</td>\n",
       "      <td>1.0</td>\n",
       "    </tr>\n",
       "    <tr>\n",
       "      <th>2</th>\n",
       "      <td>4.9</td>\n",
       "      <td>2.5</td>\n",
       "      <td>4.5</td>\n",
       "      <td>1.7</td>\n",
       "    </tr>\n",
       "    <tr>\n",
       "      <th>3</th>\n",
       "      <td>4.9</td>\n",
       "      <td>3.1</td>\n",
       "      <td>1.5</td>\n",
       "      <td>0.1</td>\n",
       "    </tr>\n",
       "    <tr>\n",
       "      <th>4</th>\n",
       "      <td>5.7</td>\n",
       "      <td>3.8</td>\n",
       "      <td>1.7</td>\n",
       "      <td>0.3</td>\n",
       "    </tr>\n",
       "  </tbody>\n",
       "</table>\n",
       "</div>"
      ],
      "text/plain": [
       "   SepalLength  SepalWidth  PetalLength  PetalWidth\n",
       "0          6.4         2.8          5.6         2.2\n",
       "1          5.0         2.3          3.3         1.0\n",
       "2          4.9         2.5          4.5         1.7\n",
       "3          4.9         3.1          1.5         0.1\n",
       "4          5.7         3.8          1.7         0.3"
      ]
     },
     "execution_count": 6,
     "metadata": {},
     "output_type": "execute_result"
    }
   ],
   "source": [
    "train_y = train.pop(\"Speices\")\n",
    "test_y = test.pop(\"Speices\")\n",
    "\n",
    "train.head()"
   ]
  },
  {
   "cell_type": "code",
   "execution_count": 7,
   "metadata": {},
   "outputs": [],
   "source": [
    "def input_evaluation_set():\n",
    "    features = {\"SepalLength\": np.array([6.4, 5.0]),\n",
    "                \"SepalWidth\": np.array([2.8, 2.3]),\n",
    "                \"PetalLength\": np.array([5.6, 2.3]),\n",
    "                \"PetalWidth\": np.array([2.2, 1.0])}\n",
    "    labels = np.array([2, 1])\n",
    "    return features, labels"
   ]
  },
  {
   "cell_type": "code",
   "execution_count": 8,
   "metadata": {},
   "outputs": [],
   "source": [
    "def input_fun(features, labels, training=True, batch_size=256):\n",
    "    dataset = tf.data.Dataset.from_tensor_slices((dict(features), labels))\n",
    "    if training:\n",
    "        dataset = dataset.shuffle(1000).repeat()\n",
    "        \n",
    "    return dataset.batch(batch_size)"
   ]
  },
  {
   "cell_type": "code",
   "execution_count": 9,
   "metadata": {},
   "outputs": [],
   "source": [
    "my_feature_columns = []\n",
    "\n",
    "for key in train.keys():\n",
    "    my_feature_columns.append(tf.feature_column.numeric_column(key=key))"
   ]
  },
  {
   "cell_type": "code",
   "execution_count": 10,
   "metadata": {},
   "outputs": [
    {
     "name": "stdout",
     "output_type": "stream",
     "text": [
      "INFO:tensorflow:Using default config.\n",
      "WARNING:tensorflow:Using temporary folder as model directory: /tmp/tmp9b9x2uq2\n",
      "INFO:tensorflow:Using config: {'_model_dir': '/tmp/tmp9b9x2uq2', '_tf_random_seed': None, '_save_summary_steps': 100, '_save_checkpoints_steps': None, '_save_checkpoints_secs': 600, '_session_config': allow_soft_placement: true\n",
      "graph_options {\n",
      "  rewrite_options {\n",
      "    meta_optimizer_iterations: ONE\n",
      "  }\n",
      "}\n",
      ", '_keep_checkpoint_max': 5, '_keep_checkpoint_every_n_hours': 10000, '_log_step_count_steps': 100, '_train_distribute': None, '_device_fn': None, '_protocol': None, '_eval_distribute': None, '_experimental_distribute': None, '_experimental_max_worker_delay_secs': None, '_session_creation_timeout_secs': 7200, '_service': None, '_cluster_spec': <tensorflow.python.training.server_lib.ClusterSpec object at 0x7efbd1b49710>, '_task_type': 'worker', '_task_id': 0, '_global_id_in_cluster': 0, '_master': '', '_evaluation_master': '', '_is_chief': True, '_num_ps_replicas': 0, '_num_worker_replicas': 1}\n"
     ]
    }
   ],
   "source": [
    "classifier = tf.estimator.DNNClassifier(\n",
    "    feature_columns=my_feature_columns,\n",
    "    hidden_units = [30, 10],\n",
    "    n_classes=3\n",
    ")"
   ]
  },
  {
   "cell_type": "code",
   "execution_count": 12,
   "metadata": {},
   "outputs": [
    {
     "name": "stdout",
     "output_type": "stream",
     "text": [
      "INFO:tensorflow:Calling model_fn.\n",
      "WARNING:tensorflow:Layer dnn is casting an input tensor from dtype float64 to the layer's dtype of float32, which is new behavior in TensorFlow 2.  The layer has dtype float32 because it's dtype defaults to floatx.\n",
      "\n",
      "If you intended to run this layer in float32, you can safely ignore this warning. If in doubt, this warning is likely only an issue if you are porting a TensorFlow 1.X model to TensorFlow 2.\n",
      "\n",
      "To change all layers to have dtype float64 by default, call `tf.keras.backend.set_floatx('float64')`. To change just this layer, pass dtype='float64' to the layer constructor. If you are the author of this layer, you can disable autocasting by passing autocast=False to the base Layer constructor.\n",
      "\n",
      "WARNING:tensorflow:From /usr/local/lib/python3.6/dist-packages/tensorflow_core/python/keras/optimizer_v2/adagrad.py:108: calling Constant.__init__ (from tensorflow.python.ops.init_ops) with dtype is deprecated and will be removed in a future version.\n",
      "Instructions for updating:\n",
      "Call initializer instance with the dtype argument instead of passing it to the constructor\n",
      "INFO:tensorflow:Done calling model_fn.\n",
      "INFO:tensorflow:Create CheckpointSaverHook.\n",
      "INFO:tensorflow:Graph was finalized.\n",
      "INFO:tensorflow:Running local_init_op.\n",
      "INFO:tensorflow:Done running local_init_op.\n",
      "INFO:tensorflow:Saving checkpoints for 0 into /tmp/tmp9b9x2uq2/model.ckpt.\n",
      "INFO:tensorflow:loss = 1.1327608, step = 0\n",
      "INFO:tensorflow:global_step/sec: 473.259\n",
      "INFO:tensorflow:loss = 0.94324744, step = 100 (0.212 sec)\n",
      "INFO:tensorflow:global_step/sec: 772.88\n",
      "INFO:tensorflow:loss = 0.8829669, step = 200 (0.129 sec)\n",
      "INFO:tensorflow:global_step/sec: 767.409\n",
      "INFO:tensorflow:loss = 0.8298011, step = 300 (0.130 sec)\n",
      "INFO:tensorflow:global_step/sec: 657.355\n",
      "INFO:tensorflow:loss = 0.7953576, step = 400 (0.152 sec)\n",
      "INFO:tensorflow:global_step/sec: 662.546\n",
      "INFO:tensorflow:loss = 0.7581988, step = 500 (0.151 sec)\n",
      "INFO:tensorflow:global_step/sec: 625.043\n",
      "INFO:tensorflow:loss = 0.73658663, step = 600 (0.160 sec)\n",
      "INFO:tensorflow:global_step/sec: 816.831\n",
      "INFO:tensorflow:loss = 0.697842, step = 700 (0.122 sec)\n",
      "INFO:tensorflow:global_step/sec: 668.174\n",
      "INFO:tensorflow:loss = 0.68253726, step = 800 (0.150 sec)\n",
      "INFO:tensorflow:global_step/sec: 781.898\n",
      "INFO:tensorflow:loss = 0.67126286, step = 900 (0.127 sec)\n",
      "INFO:tensorflow:global_step/sec: 775.292\n",
      "INFO:tensorflow:loss = 0.65965784, step = 1000 (0.129 sec)\n",
      "INFO:tensorflow:global_step/sec: 660.153\n",
      "INFO:tensorflow:loss = 0.63075185, step = 1100 (0.152 sec)\n",
      "INFO:tensorflow:global_step/sec: 659.104\n",
      "INFO:tensorflow:loss = 0.619789, step = 1200 (0.152 sec)\n",
      "INFO:tensorflow:global_step/sec: 644.915\n",
      "INFO:tensorflow:loss = 0.6099062, step = 1300 (0.155 sec)\n",
      "INFO:tensorflow:global_step/sec: 744.156\n",
      "INFO:tensorflow:loss = 0.58052903, step = 1400 (0.135 sec)\n",
      "INFO:tensorflow:global_step/sec: 668.387\n",
      "INFO:tensorflow:loss = 0.5797075, step = 1500 (0.150 sec)\n",
      "INFO:tensorflow:global_step/sec: 672.491\n",
      "INFO:tensorflow:loss = 0.5643331, step = 1600 (0.149 sec)\n",
      "INFO:tensorflow:global_step/sec: 652.288\n",
      "INFO:tensorflow:loss = 0.5538224, step = 1700 (0.153 sec)\n",
      "INFO:tensorflow:global_step/sec: 651.92\n",
      "INFO:tensorflow:loss = 0.5428673, step = 1800 (0.153 sec)\n",
      "INFO:tensorflow:global_step/sec: 635.719\n",
      "INFO:tensorflow:loss = 0.5387629, step = 1900 (0.157 sec)\n",
      "INFO:tensorflow:global_step/sec: 771.556\n",
      "INFO:tensorflow:loss = 0.522698, step = 2000 (0.130 sec)\n",
      "INFO:tensorflow:global_step/sec: 673.262\n",
      "INFO:tensorflow:loss = 0.51928496, step = 2100 (0.148 sec)\n",
      "INFO:tensorflow:global_step/sec: 631.806\n",
      "INFO:tensorflow:loss = 0.4947108, step = 2200 (0.159 sec)\n",
      "INFO:tensorflow:global_step/sec: 691.976\n",
      "INFO:tensorflow:loss = 0.5069152, step = 2300 (0.144 sec)\n",
      "INFO:tensorflow:global_step/sec: 790.19\n",
      "INFO:tensorflow:loss = 0.49423844, step = 2400 (0.126 sec)\n",
      "INFO:tensorflow:global_step/sec: 753.129\n",
      "INFO:tensorflow:loss = 0.48478743, step = 2500 (0.133 sec)\n",
      "INFO:tensorflow:global_step/sec: 654.916\n",
      "INFO:tensorflow:loss = 0.48137796, step = 2600 (0.152 sec)\n",
      "INFO:tensorflow:global_step/sec: 640.026\n",
      "INFO:tensorflow:loss = 0.4695721, step = 2700 (0.156 sec)\n",
      "INFO:tensorflow:global_step/sec: 656.582\n",
      "INFO:tensorflow:loss = 0.4722223, step = 2800 (0.152 sec)\n",
      "INFO:tensorflow:global_step/sec: 799.506\n",
      "INFO:tensorflow:loss = 0.46255815, step = 2900 (0.125 sec)\n",
      "INFO:tensorflow:global_step/sec: 655.777\n",
      "INFO:tensorflow:loss = 0.44854534, step = 3000 (0.153 sec)\n",
      "INFO:tensorflow:global_step/sec: 783.154\n",
      "INFO:tensorflow:loss = 0.43506, step = 3100 (0.127 sec)\n",
      "INFO:tensorflow:global_step/sec: 820.185\n",
      "INFO:tensorflow:loss = 0.43490326, step = 3200 (0.122 sec)\n",
      "INFO:tensorflow:global_step/sec: 809.983\n",
      "INFO:tensorflow:loss = 0.44162935, step = 3300 (0.123 sec)\n",
      "INFO:tensorflow:global_step/sec: 893.289\n",
      "INFO:tensorflow:loss = 0.43374395, step = 3400 (0.112 sec)\n",
      "INFO:tensorflow:global_step/sec: 801.279\n",
      "INFO:tensorflow:loss = 0.4190153, step = 3500 (0.125 sec)\n",
      "INFO:tensorflow:global_step/sec: 802.539\n",
      "INFO:tensorflow:loss = 0.41663793, step = 3600 (0.125 sec)\n",
      "INFO:tensorflow:global_step/sec: 714.512\n",
      "INFO:tensorflow:loss = 0.40476316, step = 3700 (0.140 sec)\n",
      "INFO:tensorflow:global_step/sec: 669.269\n",
      "INFO:tensorflow:loss = 0.40237546, step = 3800 (0.149 sec)\n",
      "INFO:tensorflow:global_step/sec: 898.198\n",
      "INFO:tensorflow:loss = 0.4036079, step = 3900 (0.111 sec)\n",
      "INFO:tensorflow:global_step/sec: 707.534\n",
      "INFO:tensorflow:loss = 0.39027736, step = 4000 (0.141 sec)\n",
      "INFO:tensorflow:global_step/sec: 791.05\n",
      "INFO:tensorflow:loss = 0.38507998, step = 4100 (0.126 sec)\n",
      "INFO:tensorflow:global_step/sec: 832.532\n",
      "INFO:tensorflow:loss = 0.39016694, step = 4200 (0.120 sec)\n",
      "INFO:tensorflow:global_step/sec: 687.999\n",
      "INFO:tensorflow:loss = 0.384556, step = 4300 (0.145 sec)\n",
      "INFO:tensorflow:global_step/sec: 803.348\n",
      "INFO:tensorflow:loss = 0.389889, step = 4400 (0.124 sec)\n",
      "INFO:tensorflow:global_step/sec: 809.988\n",
      "INFO:tensorflow:loss = 0.37737718, step = 4500 (0.124 sec)\n",
      "INFO:tensorflow:global_step/sec: 902.012\n",
      "INFO:tensorflow:loss = 0.3712715, step = 4600 (0.111 sec)\n",
      "INFO:tensorflow:global_step/sec: 808.882\n",
      "INFO:tensorflow:loss = 0.36318687, step = 4700 (0.124 sec)\n",
      "INFO:tensorflow:global_step/sec: 908.383\n",
      "INFO:tensorflow:loss = 0.36095387, step = 4800 (0.110 sec)\n",
      "INFO:tensorflow:global_step/sec: 836.799\n",
      "INFO:tensorflow:loss = 0.3711284, step = 4900 (0.119 sec)\n",
      "INFO:tensorflow:Saving checkpoints for 5000 into /tmp/tmp9b9x2uq2/model.ckpt.\n",
      "INFO:tensorflow:Loss for final step: 0.3650093.\n"
     ]
    },
    {
     "data": {
      "text/plain": [
       "<tensorflow_estimator.python.estimator.canned.dnn.DNNClassifierV2 at 0x7efbcd4fba20>"
      ]
     },
     "execution_count": 12,
     "metadata": {},
     "output_type": "execute_result"
    }
   ],
   "source": [
    "classifier.train(\n",
    "    input_fn=lambda: input_fun(train, train_y, training=True),\n",
    "    steps=5000)"
   ]
  },
  {
   "cell_type": "code",
   "execution_count": 16,
   "metadata": {},
   "outputs": [
    {
     "name": "stdout",
     "output_type": "stream",
     "text": [
      "INFO:tensorflow:Calling model_fn.\n",
      "WARNING:tensorflow:Layer dnn is casting an input tensor from dtype float64 to the layer's dtype of float32, which is new behavior in TensorFlow 2.  The layer has dtype float32 because it's dtype defaults to floatx.\n",
      "\n",
      "If you intended to run this layer in float32, you can safely ignore this warning. If in doubt, this warning is likely only an issue if you are porting a TensorFlow 1.X model to TensorFlow 2.\n",
      "\n",
      "To change all layers to have dtype float64 by default, call `tf.keras.backend.set_floatx('float64')`. To change just this layer, pass dtype='float64' to the layer constructor. If you are the author of this layer, you can disable autocasting by passing autocast=False to the base Layer constructor.\n",
      "\n",
      "INFO:tensorflow:Done calling model_fn.\n",
      "INFO:tensorflow:Starting evaluation at 2020-01-13T03:33:44Z\n",
      "INFO:tensorflow:Graph was finalized.\n",
      "INFO:tensorflow:Restoring parameters from /tmp/tmp9b9x2uq2/model.ckpt-5000\n",
      "INFO:tensorflow:Running local_init_op.\n",
      "INFO:tensorflow:Done running local_init_op.\n",
      "INFO:tensorflow:Finished evaluation at 2020-01-13-03:33:45\n",
      "INFO:tensorflow:Saving dict for global step 5000: accuracy = 0.93333334, average_loss = 0.42203942, global_step = 5000, loss = 0.42203942\n",
      "INFO:tensorflow:Saving 'checkpoint_path' summary for global step 5000: /tmp/tmp9b9x2uq2/model.ckpt-5000\n",
      "\n",
      "Test set accuracy: 0.933\n",
      "\n"
     ]
    }
   ],
   "source": [
    "eval_result = classifier.evaluate(\n",
    "    input_fn=lambda: input_fun(test, test_y, training=False))\n",
    "print('\\nTest set accuracy: {accuracy:0.3f}\\n'.format(**eval_result))"
   ]
  },
  {
   "cell_type": "code",
   "execution_count": 21,
   "metadata": {},
   "outputs": [],
   "source": [
    "expected = [\"Setosa\", \"Versicolor\", \"Virginica\"]\n",
    "predict_x = {\n",
    "    \"SepalLength\": [5.1, 5.9, 6.9],\n",
    "    \"SepalWidth\": [3.3, 3.0, 3.1],\n",
    "    \"PetalLength\": [1.7, 4.2, 5.4],\n",
    "    \"PetalWidth\": [0.5, 1.5, 2.1],\n",
    "}\n",
    "\n",
    "def input_fn(features, batch_size=256):\n",
    "    return tf.data.Dataset.from_tensor_slices(dict(features)).batch(batch_size)\n",
    "\n",
    "predictions = classifier.predict(input_fn=lambda: input_fn(predict_x))"
   ]
  },
  {
   "cell_type": "code",
   "execution_count": 25,
   "metadata": {},
   "outputs": [],
   "source": [
    "for pred_dict, expec in zip(predictions, expected):\n",
    "    class_id = pred_dict['class_ids'][0]\n",
    "    probability = pred_dict['probabilities'][class_id]\n",
    "\n",
    "    print(type(pred_dict))\n",
    "    print(type(expec))\n",
    "    print('Predictions is \"{}\" ({:.1f}%), expected \"{}\"'.format(\n",
    "\t    SPECIES[class_id], 100 * probability, expec))"
   ]
  },
  {
   "cell_type": "code",
   "execution_count": 24,
   "metadata": {},
   "outputs": [],
   "source": [
    "for pred_dict in predictions:\n",
    "    print(type(pred_dict))"
   ]
  },
  {
   "cell_type": "code",
   "execution_count": null,
   "metadata": {},
   "outputs": [],
   "source": []
  }
 ],
 "metadata": {
  "kernelspec": {
   "display_name": "Python 3",
   "language": "python",
   "name": "python3"
  },
  "language_info": {
   "codemirror_mode": {
    "name": "ipython",
    "version": 3
   },
   "file_extension": ".py",
   "mimetype": "text/x-python",
   "name": "python",
   "nbconvert_exporter": "python",
   "pygments_lexer": "ipython3",
   "version": "3.6.9"
  }
 },
 "nbformat": 4,
 "nbformat_minor": 4
}
