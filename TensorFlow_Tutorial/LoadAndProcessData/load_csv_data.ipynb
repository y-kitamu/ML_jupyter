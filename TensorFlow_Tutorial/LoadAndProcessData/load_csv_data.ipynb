{
 "cells": [
  {
   "cell_type": "code",
   "execution_count": 85,
   "metadata": {},
   "outputs": [],
   "source": [
    "import functools\n",
    "import numpy as np\n",
    "import tensorflow as tf"
   ]
  },
  {
   "cell_type": "code",
   "execution_count": 86,
   "metadata": {},
   "outputs": [],
   "source": [
    "TRAIN_DATA_URL = \"https://storage.googleapis.com/tf-datasets/titanic/train.csv\"\n",
    "TEST_DATA_URL = \"https://storage.googleapis.com/tf-datasets/titanic/eval.csv\"\n",
    "\n",
    "train_file_path = tf.keras.utils.get_file(\"train.csv\", TRAIN_DATA_URL)\n",
    "test_file_path = tf.keras.utils.get_file(\"eval.csv\", TEST_DATA_URL)"
   ]
  },
  {
   "cell_type": "code",
   "execution_count": 87,
   "metadata": {},
   "outputs": [],
   "source": [
    "import requests\n",
    "\n",
    "response = requests.get(TEST_DATA_URL)\n",
    "#print(response.content)\n",
    "# with open(\"test.csv\", \"wb\") as f:\n",
    "#     f.write(response.content)"
   ]
  },
  {
   "cell_type": "code",
   "execution_count": 46,
   "metadata": {},
   "outputs": [],
   "source": [
    "np.set_printoptions(precision=3, suppress=True)"
   ]
  },
  {
   "cell_type": "code",
   "execution_count": 47,
   "metadata": {},
   "outputs": [
    {
     "name": "stdout",
     "output_type": "stream",
     "text": [
      "1,female,15.0,0,0,7.225,Third,unknown,Cherbourg,y\n",
      "0,male,20.0,0,0,9.8458,Third,unknown,Southampton,y\n",
      "0,male,19.0,0,0,7.8958,Third,unknown,Southampton,y\n",
      "0,male,28.0,0,0,7.8958,Third,unknown,Southampton,y\n",
      "0,female,22.0,0,0,10.5167,Third,unknown,Southampton,y\n",
      "0,male,28.0,0,0,10.5,Second,unknown,Southampton,y\n",
      "0,male,25.0,0,0,7.05,Third,unknown,Southampton,y\n",
      "1,female,19.0,0,0,30.0,First,B,Southampton,y\n",
      "0,female,28.0,1,2,23.45,Third,unknown,Southampton,n\n",
      "0,male,32.0,0,0,7.75,Third,unknown,Queenstown,y\n"
     ]
    }
   ],
   "source": [
    "!tail {train_file_path}"
   ]
  },
  {
   "cell_type": "code",
   "execution_count": 18,
   "metadata": {},
   "outputs": [
    {
     "name": "stdout",
     "output_type": "stream",
     "text": [
      "     survived     sex   age  n_siblings_spouses  parch     fare   class  \\\n",
      "0           0    male  22.0                   1      0   7.2500   Third   \n",
      "1           1  female  38.0                   1      0  71.2833   First   \n",
      "2           1  female  26.0                   0      0   7.9250   Third   \n",
      "3           1  female  35.0                   1      0  53.1000   First   \n",
      "4           0    male  28.0                   0      0   8.4583   Third   \n",
      "..        ...     ...   ...                 ...    ...      ...     ...   \n",
      "622         0    male  28.0                   0      0  10.5000  Second   \n",
      "623         0    male  25.0                   0      0   7.0500   Third   \n",
      "624         1  female  19.0                   0      0  30.0000   First   \n",
      "625         0  female  28.0                   1      2  23.4500   Third   \n",
      "626         0    male  32.0                   0      0   7.7500   Third   \n",
      "\n",
      "        deck  embark_town alone  \n",
      "0    unknown  Southampton     n  \n",
      "1          C    Cherbourg     n  \n",
      "2    unknown  Southampton     y  \n",
      "3          C  Southampton     n  \n",
      "4    unknown   Queenstown     y  \n",
      "..       ...          ...   ...  \n",
      "622  unknown  Southampton     y  \n",
      "623  unknown  Southampton     y  \n",
      "624        B  Southampton     y  \n",
      "625  unknown  Southampton     n  \n",
      "626  unknown   Queenstown     y  \n",
      "\n",
      "[627 rows x 10 columns]\n"
     ]
    }
   ],
   "source": [
    "import pandas as pd \n",
    "\n",
    "data = pd.read_csv(TRAIN_DATA_URL)\n",
    "print(data)"
   ]
  },
  {
   "cell_type": "code",
   "execution_count": 48,
   "metadata": {},
   "outputs": [],
   "source": [
    "LABEL_COLUMN = 'survived'\n",
    "LABELS = [0, 1]"
   ]
  },
  {
   "cell_type": "code",
   "execution_count": 88,
   "metadata": {},
   "outputs": [],
   "source": [
    "def get_dataset(file_path, **kwargs):\n",
    "    dataset = tf.data.experimental.make_csv_dataset(\n",
    "        file_path,\n",
    "        batch_size=5,\n",
    "        label_name=LABEL_COLUMN,\n",
    "        na_value='?',\n",
    "        num_epochs=1,\n",
    "        ignore_errors=True,\n",
    "        **kwargs\n",
    "    )\n",
    "    return dataset"
   ]
  },
  {
   "cell_type": "code",
   "execution_count": 89,
   "metadata": {},
   "outputs": [],
   "source": [
    "raw_train_data = get_dataset(train_file_path)\n",
    "raw_test_data = get_dataset(test_file_path)"
   ]
  },
  {
   "cell_type": "code",
   "execution_count": 90,
   "metadata": {},
   "outputs": [],
   "source": [
    "def show_batch(dataset):\n",
    "    for batch, label in dataset.take(1):\n",
    "        for key, value in batch.items():\n",
    "            print(\"{:20s}: {}\".format(key, value.numpy()))"
   ]
  },
  {
   "cell_type": "code",
   "execution_count": 91,
   "metadata": {},
   "outputs": [
    {
     "name": "stdout",
     "output_type": "stream",
     "text": [
      "sex                 : [b'female' b'female' b'male' b'male' b'male']\n",
      "age                 : [31. 60. 28. 28. 48.]\n",
      "n_siblings_spouses  : [0 1 0 1 1]\n",
      "parch               : [2 0 0 1 0]\n",
      "fare                : [164.867  75.25    0.     15.246  76.729]\n",
      "class               : [b'First' b'First' b'Second' b'Third' b'First']\n",
      "deck                : [b'C' b'D' b'unknown' b'unknown' b'D']\n",
      "embark_town         : [b'Southampton' b'Cherbourg' b'Southampton' b'Cherbourg' b'Cherbourg']\n",
      "alone               : [b'n' b'n' b'y' b'n' b'n']\n"
     ]
    }
   ],
   "source": [
    "show_batch(raw_train_data)"
   ]
  },
  {
   "cell_type": "code",
   "execution_count": 92,
   "metadata": {},
   "outputs": [
    {
     "name": "stdout",
     "output_type": "stream",
     "text": [
      "sex                 : [b'female' b'male' b'male' b'female' b'female']\n",
      "age                 : [28.  28.  30.5 27.  28. ]\n",
      "n_siblings_spouses  : [1 0 0 0 0]\n",
      "parch               : [0 0 0 0 0]\n",
      "fare                : [16.1   0.    8.05 10.5  13.  ]\n",
      "class               : [b'Third' b'Second' b'Third' b'Second' b'Second']\n",
      "deck                : [b'unknown' b'unknown' b'unknown' b'E' b'unknown']\n",
      "embark_town         : [b'Southampton' b'Southampton' b'Southampton' b'Southampton'\n",
      " b'Southampton']\n",
      "alone               : [b'n' b'y' b'y' b'y' b'y']\n"
     ]
    }
   ],
   "source": [
    "CSV_COLUMNS = ['survived', 'sex', 'age', 'n_siblings_spouses', 'parch',\n",
    "               'fare', 'class', 'deck', 'embark_town', 'alone']\n",
    "tmp_dataset = get_dataset(train_file_path, column_names=CSV_COLUMNS)\n",
    "show_batch(tmp_dataset)"
   ]
  },
  {
   "cell_type": "code",
   "execution_count": 93,
   "metadata": {},
   "outputs": [
    {
     "name": "stdout",
     "output_type": "stream",
     "text": [
      "age                 : [34. 18. 28. 34. 28.]\n",
      "n_siblings_spouses  : [1. 0. 0. 1. 1.]\n",
      "parch               : [1. 0. 0. 0. 0.]\n",
      "fare                : [ 14.4    7.75   7.75  26.   133.65]\n"
     ]
    }
   ],
   "source": [
    "SELECT_COLUMNS = ['survived', 'age', 'n_siblings_spouses', 'parch', 'fare']\n",
    "DEFAULTS = [0, 0.0, 0.0, 0.0, 0.0]\n",
    "temp_dataset = get_dataset(train_file_path,\n",
    "                           select_columns=SELECT_COLUMNS, \n",
    "                           column_defaults=DEFAULTS)\n",
    "show_batch(temp_dataset)"
   ]
  },
  {
   "cell_type": "code",
   "execution_count": 94,
   "metadata": {},
   "outputs": [],
   "source": [
    "example_batch, labels_batch = next(iter(temp_dataset))"
   ]
  },
  {
   "cell_type": "code",
   "execution_count": 95,
   "metadata": {},
   "outputs": [],
   "source": [
    "def pack(features, label):\n",
    "    return tf.stack(list(features.values()), axis=-1), label"
   ]
  },
  {
   "cell_type": "code",
   "execution_count": 96,
   "metadata": {},
   "outputs": [],
   "source": [
    "packed_dataset = temp_dataset.map(pack)"
   ]
  },
  {
   "cell_type": "code",
   "execution_count": 97,
   "metadata": {},
   "outputs": [
    {
     "name": "stdout",
     "output_type": "stream",
     "text": [
      "[[44.     1.     0.    26.   ]\n",
      " [70.     1.     1.    71.   ]\n",
      " [15.     0.     0.     7.225]\n",
      " [28.     0.     0.    13.   ]\n",
      " [32.     0.     0.    13.   ]]\n",
      "\n",
      "[0 0 1 1 1]\n"
     ]
    }
   ],
   "source": [
    "for features, labels in packed_dataset.take(1):\n",
    "    print(features.numpy())\n",
    "    print()\n",
    "    print(labels.numpy())"
   ]
  },
  {
   "cell_type": "code",
   "execution_count": 98,
   "metadata": {},
   "outputs": [],
   "source": [
    "class PackNumericFeatures(object):\n",
    "    def __init__(self, names):\n",
    "        self.names = names\n",
    "        \n",
    "    def __call__(self, features, labels):\n",
    "        numeric_features = [features.pop(name) for name in self.names]\n",
    "        numeric_features = [tf.cast(feat, tf.float32) for feat in numeric_features]\n",
    "        numeric_features = tf.stack(numeric_features, axis=-1)\n",
    "        features['numeric'] = numeric_features\n",
    "        \n",
    "        return features, labels"
   ]
  },
  {
   "cell_type": "code",
   "execution_count": 99,
   "metadata": {},
   "outputs": [],
   "source": [
    "NUMERIC_FEATURES = ['age', 'n_siblings_spouses', 'parch', 'fare']\n",
    "packed_train_data = raw_train_data.map(\n",
    "    PackNumericFeatures(NUMERIC_FEATURES))\n",
    "packed_test_data = raw_test_data.map(\n",
    "    PackNumericFeatures(NUMERIC_FEATURES))"
   ]
  },
  {
   "cell_type": "code",
   "execution_count": 100,
   "metadata": {},
   "outputs": [
    {
     "name": "stdout",
     "output_type": "stream",
     "text": [
      "sex                 : [b'male' b'male' b'female' b'male' b'female']\n",
      "class               : [b'Third' b'First' b'Third' b'First' b'Third']\n",
      "deck                : [b'unknown' b'unknown' b'unknown' b'B' b'unknown']\n",
      "embark_town         : [b'Cherbourg' b'Southampton' b'Southampton' b'Southampton' b'Southampton']\n",
      "alone               : [b'y' b'n' b'y' b'n' b'n']\n",
      "numeric             : [[ 28.      0.      0.      7.225]\n",
      " [ 50.      2.      0.    133.65 ]\n",
      " [ 22.      0.      0.      7.75 ]\n",
      " [ 31.      1.      0.     57.   ]\n",
      " [ 18.      1.      0.     17.8  ]]\n"
     ]
    }
   ],
   "source": [
    "show_batch(packed_train_data)"
   ]
  },
  {
   "cell_type": "code",
   "execution_count": 101,
   "metadata": {},
   "outputs": [],
   "source": [
    "example_batch, labels_batch = next(iter(packed_train_data))"
   ]
  },
  {
   "cell_type": "code",
   "execution_count": 102,
   "metadata": {},
   "outputs": [
    {
     "data": {
      "text/plain": [
       "OrderedDict([('sex',\n",
       "              <tf.Tensor: id=1269, shape=(5,), dtype=string, numpy=array([b'female', b'male', b'female', b'male', b'female'], dtype=object)>),\n",
       "             ('class',\n",
       "              <tf.Tensor: id=1265, shape=(5,), dtype=string, numpy=array([b'Third', b'Third', b'First', b'Third', b'Third'], dtype=object)>),\n",
       "             ('deck',\n",
       "              <tf.Tensor: id=1266, shape=(5,), dtype=string, numpy=array([b'G', b'unknown', b'E', b'unknown', b'unknown'], dtype=object)>),\n",
       "             ('embark_town',\n",
       "              <tf.Tensor: id=1267, shape=(5,), dtype=string, numpy=\n",
       "              array([b'Southampton', b'Southampton', b'Cherbourg', b'Southampton',\n",
       "                     b'Southampton'], dtype=object)>),\n",
       "             ('alone',\n",
       "              <tf.Tensor: id=1264, shape=(5,), dtype=string, numpy=array([b'n', b'n', b'y', b'n', b'n'], dtype=object)>),\n",
       "             ('numeric',\n",
       "              <tf.Tensor: id=1268, shape=(5, 4), dtype=float32, numpy=\n",
       "              array([[ 2.   ,  0.   ,  1.   , 10.462],\n",
       "                     [30.   ,  1.   ,  0.   , 16.1  ],\n",
       "                     [30.   ,  0.   ,  0.   , 56.929],\n",
       "                     [ 9.   ,  5.   ,  2.   , 46.9  ],\n",
       "                     [38.   ,  1.   ,  5.   , 31.388]], dtype=float32)>)])"
      ]
     },
     "execution_count": 102,
     "metadata": {},
     "output_type": "execute_result"
    }
   ],
   "source": [
    "example_batch"
   ]
  },
  {
   "cell_type": "code",
   "execution_count": 103,
   "metadata": {},
   "outputs": [
    {
     "data": {
      "text/html": [
       "<div>\n",
       "<style scoped>\n",
       "    .dataframe tbody tr th:only-of-type {\n",
       "        vertical-align: middle;\n",
       "    }\n",
       "\n",
       "    .dataframe tbody tr th {\n",
       "        vertical-align: top;\n",
       "    }\n",
       "\n",
       "    .dataframe thead th {\n",
       "        text-align: right;\n",
       "    }\n",
       "</style>\n",
       "<table border=\"1\" class=\"dataframe\">\n",
       "  <thead>\n",
       "    <tr style=\"text-align: right;\">\n",
       "      <th></th>\n",
       "      <th>age</th>\n",
       "      <th>n_siblings_spouses</th>\n",
       "      <th>parch</th>\n",
       "      <th>fare</th>\n",
       "    </tr>\n",
       "  </thead>\n",
       "  <tbody>\n",
       "    <tr>\n",
       "      <th>count</th>\n",
       "      <td>627.000000</td>\n",
       "      <td>627.000000</td>\n",
       "      <td>627.000000</td>\n",
       "      <td>627.000000</td>\n",
       "    </tr>\n",
       "    <tr>\n",
       "      <th>mean</th>\n",
       "      <td>29.631308</td>\n",
       "      <td>0.545455</td>\n",
       "      <td>0.379585</td>\n",
       "      <td>34.385399</td>\n",
       "    </tr>\n",
       "    <tr>\n",
       "      <th>std</th>\n",
       "      <td>12.511818</td>\n",
       "      <td>1.151090</td>\n",
       "      <td>0.792999</td>\n",
       "      <td>54.597730</td>\n",
       "    </tr>\n",
       "    <tr>\n",
       "      <th>min</th>\n",
       "      <td>0.750000</td>\n",
       "      <td>0.000000</td>\n",
       "      <td>0.000000</td>\n",
       "      <td>0.000000</td>\n",
       "    </tr>\n",
       "    <tr>\n",
       "      <th>25%</th>\n",
       "      <td>23.000000</td>\n",
       "      <td>0.000000</td>\n",
       "      <td>0.000000</td>\n",
       "      <td>7.895800</td>\n",
       "    </tr>\n",
       "    <tr>\n",
       "      <th>50%</th>\n",
       "      <td>28.000000</td>\n",
       "      <td>0.000000</td>\n",
       "      <td>0.000000</td>\n",
       "      <td>15.045800</td>\n",
       "    </tr>\n",
       "    <tr>\n",
       "      <th>75%</th>\n",
       "      <td>35.000000</td>\n",
       "      <td>1.000000</td>\n",
       "      <td>0.000000</td>\n",
       "      <td>31.387500</td>\n",
       "    </tr>\n",
       "    <tr>\n",
       "      <th>max</th>\n",
       "      <td>80.000000</td>\n",
       "      <td>8.000000</td>\n",
       "      <td>5.000000</td>\n",
       "      <td>512.329200</td>\n",
       "    </tr>\n",
       "  </tbody>\n",
       "</table>\n",
       "</div>"
      ],
      "text/plain": [
       "              age  n_siblings_spouses       parch        fare\n",
       "count  627.000000          627.000000  627.000000  627.000000\n",
       "mean    29.631308            0.545455    0.379585   34.385399\n",
       "std     12.511818            1.151090    0.792999   54.597730\n",
       "min      0.750000            0.000000    0.000000    0.000000\n",
       "25%     23.000000            0.000000    0.000000    7.895800\n",
       "50%     28.000000            0.000000    0.000000   15.045800\n",
       "75%     35.000000            1.000000    0.000000   31.387500\n",
       "max     80.000000            8.000000    5.000000  512.329200"
      ]
     },
     "execution_count": 103,
     "metadata": {},
     "output_type": "execute_result"
    }
   ],
   "source": [
    "import pandas as pd\n",
    "desc = pd.read_csv(train_file_path)[NUMERIC_FEATURES].describe()\n",
    "desc"
   ]
  },
  {
   "cell_type": "code",
   "execution_count": 104,
   "metadata": {},
   "outputs": [],
   "source": [
    "MEAN = np.array(desc.T['mean'])\n",
    "STD = np.array(desc.T['std'])"
   ]
  },
  {
   "cell_type": "code",
   "execution_count": 105,
   "metadata": {},
   "outputs": [],
   "source": [
    "def normalize_numeric_data(data, mean, std):\n",
    "    return (data - mean) / std"
   ]
  },
  {
   "cell_type": "code",
   "execution_count": 106,
   "metadata": {},
   "outputs": [],
   "source": [
    "normalizer = functools.partial(normalize_numeric_data, mean=MEAN, std=STD)"
   ]
  },
  {
   "cell_type": "code",
   "execution_count": 107,
   "metadata": {},
   "outputs": [],
   "source": [
    "numeric_column = tf.feature_column.numeric_column('numeric', normalizer_fn=normalizer, shape=[len(NUMERIC_FEATURES)])"
   ]
  },
  {
   "cell_type": "code",
   "execution_count": 108,
   "metadata": {},
   "outputs": [
    {
     "data": {
      "text/plain": [
       "NumericColumn(key='numeric', shape=(4,), default_value=None, dtype=tf.float32, normalizer_fn=functools.partial(<function normalize_numeric_data at 0x7efbd622b840>, mean=array([29.631,  0.545,  0.38 , 34.385]), std=array([12.512,  1.151,  0.793, 54.598])))"
      ]
     },
     "execution_count": 108,
     "metadata": {},
     "output_type": "execute_result"
    }
   ],
   "source": [
    "numeric_column"
   ]
  },
  {
   "cell_type": "code",
   "execution_count": 109,
   "metadata": {},
   "outputs": [
    {
     "data": {
      "text/plain": [
       "<tf.Tensor: id=1268, shape=(5, 4), dtype=float32, numpy=\n",
       "array([[ 2.   ,  0.   ,  1.   , 10.462],\n",
       "       [30.   ,  1.   ,  0.   , 16.1  ],\n",
       "       [30.   ,  0.   ,  0.   , 56.929],\n",
       "       [ 9.   ,  5.   ,  2.   , 46.9  ],\n",
       "       [38.   ,  1.   ,  5.   , 31.388]], dtype=float32)>"
      ]
     },
     "execution_count": 109,
     "metadata": {},
     "output_type": "execute_result"
    }
   ],
   "source": [
    "example_batch['numeric']"
   ]
  },
  {
   "cell_type": "code",
   "execution_count": 110,
   "metadata": {},
   "outputs": [
    {
     "data": {
      "text/plain": [
       "array([[-2.208, -0.474,  0.782, -0.438],\n",
       "       [ 0.029,  0.395, -0.479, -0.335],\n",
       "       [ 0.029, -0.474, -0.479,  0.413],\n",
       "       [-1.649,  3.87 ,  2.043,  0.229],\n",
       "       [ 0.669,  0.395,  5.827, -0.055]], dtype=float32)"
      ]
     },
     "execution_count": 110,
     "metadata": {},
     "output_type": "execute_result"
    }
   ],
   "source": [
    "numeric_columns = [numeric_column]\n",
    "numeric_layer = tf.keras.layers.DenseFeatures(numeric_columns)\n",
    "numeric_layer(example_batch).numpy()"
   ]
  },
  {
   "cell_type": "code",
   "execution_count": 160,
   "metadata": {},
   "outputs": [],
   "source": [
    "CATEGORIES = {\n",
    "    'sex': ['male', 'female'],\n",
    "    'class': ['First', 'Second', 'Third'],\n",
    "    'deck': ['A', 'B', 'C', 'D', 'E', 'F', 'G', 'H', 'I', 'J'],\n",
    "    \"embark_town\": ['Cherbourg', 'Southampton', 'Queenstown'],\n",
    "    'alone': ['y', 'n']\n",
    "}"
   ]
  },
  {
   "cell_type": "code",
   "execution_count": 161,
   "metadata": {},
   "outputs": [],
   "source": [
    "categorical_columns = []\n",
    "for feature, vocab in CATEGORIES.items():\n",
    "    cat_col = tf.feature_column.categorical_column_with_vocabulary_list(\n",
    "        key=feature, vocabulary_list=vocab)\n",
    "    categorical_columns.append(tf.feature_column.indicator_column(cat_col))"
   ]
  },
  {
   "cell_type": "code",
   "execution_count": 162,
   "metadata": {},
   "outputs": [
    {
     "data": {
      "text/plain": [
       "[IndicatorColumn(categorical_column=VocabularyListCategoricalColumn(key='sex', vocabulary_list=('male', 'female'), dtype=tf.string, default_value=-1, num_oov_buckets=0)),\n",
       " IndicatorColumn(categorical_column=VocabularyListCategoricalColumn(key='class', vocabulary_list=('First', 'Second', 'Third'), dtype=tf.string, default_value=-1, num_oov_buckets=0)),\n",
       " IndicatorColumn(categorical_column=VocabularyListCategoricalColumn(key='deck', vocabulary_list=('A', 'B', 'C', 'D', 'E', 'F', 'G', 'H', 'I', 'J'), dtype=tf.string, default_value=-1, num_oov_buckets=0)),\n",
       " IndicatorColumn(categorical_column=VocabularyListCategoricalColumn(key='embark_town', vocabulary_list=('Cherbourg', 'Southampton', 'Queenstown'), dtype=tf.string, default_value=-1, num_oov_buckets=0)),\n",
       " IndicatorColumn(categorical_column=VocabularyListCategoricalColumn(key='alone', vocabulary_list=('y', 'n'), dtype=tf.string, default_value=-1, num_oov_buckets=0))]"
      ]
     },
     "execution_count": 162,
     "metadata": {},
     "output_type": "execute_result"
    }
   ],
   "source": [
    "categorical_columns"
   ]
  },
  {
   "cell_type": "code",
   "execution_count": 163,
   "metadata": {},
   "outputs": [
    {
     "name": "stdout",
     "output_type": "stream",
     "text": [
      "[[0. 1. 0. 0. 1. 0. 0. 0. 0. 0. 0. 1. 0. 0. 0. 0. 1. 0. 0. 1.]\n",
      " [0. 1. 0. 0. 1. 0. 0. 0. 0. 0. 0. 0. 0. 0. 0. 0. 1. 0. 1. 0.]\n",
      " [1. 0. 1. 0. 0. 0. 0. 0. 0. 1. 0. 0. 0. 0. 0. 1. 0. 0. 0. 1.]\n",
      " [0. 1. 0. 0. 1. 0. 0. 0. 0. 0. 0. 0. 0. 0. 0. 0. 1. 0. 1. 0.]\n",
      " [0. 1. 0. 0. 1. 0. 0. 0. 0. 0. 0. 0. 0. 0. 0. 0. 1. 0. 0. 1.]]\n"
     ]
    }
   ],
   "source": [
    "categorical_layer = tf.keras.layers.DenseFeatures(categorical_columns)\n",
    "print(categorical_layer(example_batch).numpy())"
   ]
  },
  {
   "cell_type": "code",
   "execution_count": 166,
   "metadata": {},
   "outputs": [
    {
     "name": "stdout",
     "output_type": "stream",
     "text": [
      "[ 0.     1.     0.     0.     1.     0.     0.     0.     0.     0.\n",
      "  0.     1.     0.     0.     0.     0.     1.     0.    -2.208 -0.474\n",
      "  0.782 -0.438  0.     1.   ]\n"
     ]
    }
   ],
   "source": [
    "preprocessing_layer = tf.keras.layers.DenseFeatures(categorical_columns + numeric_columns)\n",
    "print(preprocessing_layer(example_batch).numpy()[0])"
   ]
  },
  {
   "cell_type": "code",
   "execution_count": 168,
   "metadata": {},
   "outputs": [],
   "source": [
    "model = tf.keras.Sequential([\n",
    "    preprocessing_layer,\n",
    "    tf.keras.layers.Dense(128, activation='relu'),\n",
    "    tf.keras.layers.Dense(128, activation='relu'),\n",
    "    tf.keras.layers.Dense(1, activation='sigmoid'),\n",
    "])\n",
    "\n",
    "model.compile(\n",
    "    loss='binary_crossentropy',\n",
    "    optimzier='adam',\n",
    "    metrics=['accuracy'])"
   ]
  },
  {
   "cell_type": "code",
   "execution_count": 169,
   "metadata": {},
   "outputs": [],
   "source": [
    "train_data = packed_train_data.shuffle(500)\n",
    "test_data = packed_test_data"
   ]
  },
  {
   "cell_type": "code",
   "execution_count": 170,
   "metadata": {},
   "outputs": [
    {
     "name": "stdout",
     "output_type": "stream",
     "text": [
      "Epoch 1/20\n",
      "126/126 [==============================] - 2s 13ms/step - loss: 0.4870 - accuracy: 0.7687\n",
      "Epoch 2/20\n",
      "126/126 [==============================] - 0s 4ms/step - loss: 0.4289 - accuracy: 0.8038\n",
      "Epoch 3/20\n",
      "126/126 [==============================] - 0s 4ms/step - loss: 0.4076 - accuracy: 0.8182\n",
      "Epoch 4/20\n",
      "126/126 [==============================] - 0s 4ms/step - loss: 0.3976 - accuracy: 0.8341\n",
      "Epoch 5/20\n",
      "126/126 [==============================] - 0s 4ms/step - loss: 0.3962 - accuracy: 0.8341\n",
      "Epoch 6/20\n",
      "126/126 [==============================] - 0s 4ms/step - loss: 0.3851 - accuracy: 0.8421\n",
      "Epoch 7/20\n",
      "126/126 [==============================] - 0s 4ms/step - loss: 0.3813 - accuracy: 0.8357\n",
      "Epoch 8/20\n",
      "126/126 [==============================] - 0s 4ms/step - loss: 0.3699 - accuracy: 0.8517\n",
      "Epoch 9/20\n",
      "126/126 [==============================] - 0s 4ms/step - loss: 0.3712 - accuracy: 0.8357\n",
      "Epoch 10/20\n",
      "126/126 [==============================] - 0s 4ms/step - loss: 0.3665 - accuracy: 0.8437\n",
      "Epoch 11/20\n",
      "126/126 [==============================] - 0s 4ms/step - loss: 0.3611 - accuracy: 0.8612\n",
      "Epoch 12/20\n",
      "126/126 [==============================] - 0s 4ms/step - loss: 0.3551 - accuracy: 0.8501\n",
      "Epoch 13/20\n",
      "126/126 [==============================] - 0s 4ms/step - loss: 0.3548 - accuracy: 0.8596\n",
      "Epoch 14/20\n",
      "126/126 [==============================] - 0s 4ms/step - loss: 0.3468 - accuracy: 0.8485\n",
      "Epoch 15/20\n",
      "126/126 [==============================] - 0s 4ms/step - loss: 0.3470 - accuracy: 0.8596\n",
      "Epoch 16/20\n",
      "126/126 [==============================] - 0s 4ms/step - loss: 0.3466 - accuracy: 0.8612\n",
      "Epoch 17/20\n",
      "126/126 [==============================] - 0s 4ms/step - loss: 0.3383 - accuracy: 0.8628\n",
      "Epoch 18/20\n",
      "126/126 [==============================] - 0s 4ms/step - loss: 0.3309 - accuracy: 0.8565\n",
      "Epoch 19/20\n",
      "126/126 [==============================] - 0s 4ms/step - loss: 0.3308 - accuracy: 0.8756\n",
      "Epoch 20/20\n",
      "126/126 [==============================] - 0s 4ms/step - loss: 0.3308 - accuracy: 0.8581\n"
     ]
    },
    {
     "data": {
      "text/plain": [
       "<tensorflow.python.keras.callbacks.History at 0x7efbd395d6a0>"
      ]
     },
     "execution_count": 170,
     "metadata": {},
     "output_type": "execute_result"
    }
   ],
   "source": [
    "model.fit(train_data, epochs=20)"
   ]
  },
  {
   "cell_type": "code",
   "execution_count": 172,
   "metadata": {},
   "outputs": [
    {
     "name": "stdout",
     "output_type": "stream",
     "text": [
      "53/53 [==============================] - 0s 6ms/step - loss: 0.4495 - accuracy: 0.8409\n",
      "\n",
      "\n",
      " Test Loss 0.44953719421096566, Test Accuracy 0.8409090638160706\n"
     ]
    }
   ],
   "source": [
    "test_loss, test_accuracy = model.evaluate(test_data)\n",
    "print('\\n\\n Test Loss {}, Test Accuracy {}'.format(test_loss, test_accuracy))"
   ]
  },
  {
   "cell_type": "code",
   "execution_count": 176,
   "metadata": {},
   "outputs": [
    {
     "name": "stdout",
     "output_type": "stream",
     "text": [
      "Predicted survival : 7.144302%  | Actual outcome :  SURVIVED\n",
      "Predicted survival : 3.872621%  | Actual outcome :  DIED\n",
      "Predicted survival : 12.579799%  | Actual outcome :  DIED\n",
      "Predicted survival : 31.808433%  | Actual outcome :  DIED\n",
      "Predicted survival : 29.123947%  | Actual outcome :  SURVIVED\n"
     ]
    }
   ],
   "source": [
    "predictions = model.predict(test_data)\n",
    "\n",
    "for prediction, survived in zip(predictions, list(test_data)[0][1]):\n",
    "    print(\"Predicted survival : {:2%}\".format(prediction[0]),\n",
    "          \" | Actual outcome : \", \"SURVIVED\" if bool(survived) else \"DIED\")"
   ]
  },
  {
   "cell_type": "code",
   "execution_count": null,
   "metadata": {},
   "outputs": [],
   "source": []
  }
 ],
 "metadata": {
  "kernelspec": {
   "display_name": "Python 3",
   "language": "python",
   "name": "python3"
  },
  "language_info": {
   "codemirror_mode": {
    "name": "ipython",
    "version": 3
   },
   "file_extension": ".py",
   "mimetype": "text/x-python",
   "name": "python",
   "nbconvert_exporter": "python",
   "pygments_lexer": "ipython3",
   "version": "3.6.9"
  }
 },
 "nbformat": 4,
 "nbformat_minor": 4
}
